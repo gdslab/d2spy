{
 "cells": [
  {
   "cell_type": "markdown",
   "id": "e2095fa0-a43b-4f73-b058-26b27583188d",
   "metadata": {},
   "source": [
    "[![image](https://colab.research.google.com/assets/colab-badge.svg)](https://colab.research.google.com/github/gdslab/d2spy/blob/main/docs/guides/notebooks/06_clipping_rasters_with_d2spy.ipynb)\n",
    "[![Jupyter Notebook](https://img.shields.io/badge/Open%20in%20JuypterHub%20-%20%233776AB?logo=jupyter&logoColor=%23F37626&labelColor=%23F5F5F5)](https://lab.d2s.org/hub/user-redirect/lab/tree/tutorials/06_clipping_rasters_with_d2spy.ipynb)"
   ]
  },
  {
   "cell_type": "markdown",
   "id": "b55516ad-7fff-4139-94ea-15bf71e70141",
   "metadata": {},
   "source": [
    "# Clipping rasters with d2spy\n",
    "*This guide will walk you through the steps for clipping a Cloud Optimized GeoTIFF hosted on D2S with d2spy. We will visualize the results with [leafmap](https://github.com/opengeos/leafmap).*\n",
    "\n",
    "To get started, you will need to have access to a D2S instance where you have created projects and the open-source library [leafmap](https://github.com/opengeos/leafmap) added to your Python environment."
   ]
  },
  {
   "cell_type": "code",
   "execution_count": null,
   "id": "681aadb4-ba23-46e8-8ce5-cdd8de5d6170",
   "metadata": {},
   "outputs": [],
   "source": [
    "# Uncomment and run the following line if working out of Google Colab\n",
    "# !pip install d2spy[geo]\n",
    "# !pip install leafmap"
   ]
  },
  {
   "cell_type": "code",
   "execution_count": null,
   "id": "d06e3804-05a8-47a2-ab90-6c3c40cc723e",
   "metadata": {},
   "outputs": [],
   "source": [
    "import os\n",
    "from datetime import date\n",
    "\n",
    "import leafmap\n",
    "from d2spy.workspace import Workspace"
   ]
  },
  {
   "cell_type": "markdown",
   "id": "949fbb9e-9e13-4a47-9edd-e680f14245ce",
   "metadata": {},
   "source": [
    "You must connect to your D2S workspace before you can request any data. The [`Workspace`](https://py.d2s.org/workspace/) module's [`connect`](https://py.d2s.org/workspace/#d2spy.workspace.Workspace.connect) method can be used to login to a D2S instance and connect to your workspace in one go.\n",
    "\n",
    "*Note: This tutorial uses a D2S instance hosted at https://ps2.d2s.org. You will need to have an account and access to data on this instance to use it. Change the URL if you are self-hosting an instance or using an instance hosted elsewhere.*"
   ]
  },
  {
   "cell_type": "code",
   "execution_count": null,
   "id": "f67b9c38-be74-411e-83e1-47e90f3055f7",
   "metadata": {},
   "outputs": [],
   "source": [
    "# Connect to D2S workspace\n",
    "workspace = Workspace.connect(\"https://ps2.d2s.org\", \"yourD2Semail@example.com\")"
   ]
  },
  {
   "cell_type": "markdown",
   "id": "2250ea1e-7c6f-4102-a0a0-655e91d9d7c9",
   "metadata": {},
   "source": [
    "First we will need to find the project that contains the Cloud Optimized GeoTIFF (COG) we will be clipping."
   ]
  },
  {
   "cell_type": "code",
   "execution_count": null,
   "id": "af807c20-f1b8-4323-bb1e-1f7289aeaced",
   "metadata": {},
   "outputs": [],
   "source": [
    "# Change the search term in `.filter_by_title` to match your project\n",
    "project = workspace.get_projects().filter_by_title(\"clip demo\")[0]\n",
    "print(project)"
   ]
  },
  {
   "cell_type": "markdown",
   "id": "b064fdc3-07d3-47a0-9f65-47543511c74e",
   "metadata": {},
   "source": [
    "Next, find the flight that the COG was uploaded to within the project. If you have multiple flights with the same acquisition date you may need to change the index at the end of the first line of code."
   ]
  },
  {
   "cell_type": "code",
   "execution_count": null,
   "id": "0f1862b4-3078-4cc9-bea2-c2b75d04b0ad",
   "metadata": {},
   "outputs": [],
   "source": [
    "# Change the date range in `filter_by_date` to match the acquistion date of the flight in your project\n",
    "flight = project.get_flights().filter_by_date(date(2022, 6, 23), date(2022, 6, 23))[0]\n",
    "print(flight)"
   ]
  },
  {
   "cell_type": "markdown",
   "id": "6b3508ee-f88c-4c28-9e40-1d22bc57b08b",
   "metadata": {},
   "source": [
    "Now that we have the correct flight selected, we can find the data product. If you have multiple data products with the same data type within this flight you may need to change the index at the end of the first line of code."
   ]
  },
  {
   "cell_type": "code",
   "execution_count": null,
   "id": "bc18ddbd-a79f-4bab-93f1-a93284d1df94",
   "metadata": {},
   "outputs": [],
   "source": [
    "# Change the search term in `.filter_by_data_type` to match your COG's data type\n",
    "data_product = flight.get_data_products().filter_by_data_type(\"dsm\")[0]\n",
    "print(data_product)"
   ]
  },
  {
   "cell_type": "markdown",
   "id": "ca695cbd-c7b6-47a2-82de-4385aa3167d5",
   "metadata": {},
   "source": [
    "The polygon feature we will be using to clip the COG needs to be in a Python dictionary that matches the GeoJSON polygon feature format. In this example, we will fetch the polygon feature from a map layer previously uploaded to this project."
   ]
  },
  {
   "cell_type": "code",
   "execution_count": null,
   "id": "9460a826-eec8-4f5c-bae7-7aebfd3bc6ae",
   "metadata": {},
   "outputs": [],
   "source": [
    "# This project only has one map layer so we can safely access it from the first index position\n",
    "map_layer = project.get_map_layers()[0]\n",
    "# The polygon feature is currently inside a GeoJSON Feature Collection\n",
    "# Extract the GeoJSON Polygon Feature from the Feature Collection\n",
    "clip_feature = map_layer[\"features\"][0]\n",
    "print(clip_feature)"
   ]
  },
  {
   "cell_type": "markdown",
   "id": "011dfa8f-3d2b-41b6-8a2d-58558e6c87cd",
   "metadata": {},
   "source": [
    "If the COG is **protected** we will need to set our D2S API key in the environment. If it is public, this step can be skipped. \n",
    "\n",
    "You can create an API key from the Profile page of your D2S instance (e.g., https://ps2.d2s.org/auth/profile). Be careful with this API key as it can be used to access any of your data products. You can revoke your current API key at any time from the Profile page."
   ]
  },
  {
   "cell_type": "code",
   "execution_count": null,
   "id": "c4fd31e5-e7b9-421c-9694-109ce64199b6",
   "metadata": {},
   "outputs": [],
   "source": [
    "if workspace.api_key:\n",
    "    os.environ[\"D2S_API_KEY\"] = workspace.api_key\n",
    "else:\n",
    "    # Note, you will need to log in again to fetch the key from workspace.api_key or you can manually enter the key above\n",
    "    print(\"Please create an API key from your D2S Profile page\")"
   ]
  },
  {
   "cell_type": "markdown",
   "id": "c6354061-ddc6-49a1-a86c-4f15d0a8ea46",
   "metadata": {},
   "source": [
    "We can use leafmap to quickly visualize our COG and clip boundary."
   ]
  },
  {
   "cell_type": "code",
   "execution_count": null,
   "id": "48c33ac0-3ecd-4178-9304-3e4d482e6d8e",
   "metadata": {},
   "outputs": [],
   "source": [
    "os.environ[\"TITILER_ENDPOINT\"] = \"https://titiler.d2s.org\"\n",
    "\n",
    "m = leafmap.Map()\n",
    "m.add_cog_layer(data_product.url, colormap_name=\"rainbow\", name=\"DSM\")\n",
    "m.add_geojson(map_layer, style={\"color\": \"black\", \"weight\": 3, \"fill\": False})\n",
    "m"
   ]
  },
  {
   "cell_type": "markdown",
   "id": "831f35e8-83ba-46ae-97e8-5508a13ee917",
   "metadata": {},
   "source": [
    "## Save Clipped Raster Locally\n",
    "The last step will be running the DataProduct's [`clip`](https://py.d2s.org/data_product/#d2spy.models.data_product.DataProduct.clip) method. You will need to provide the fullpath and filename for your output raster."
   ]
  },
  {
   "cell_type": "code",
   "execution_count": null,
   "id": "0837f7de-eb3a-4e71-ad1c-0cfe41ce4bc8",
   "metadata": {},
   "outputs": [],
   "source": [
    "out_filename = \"./tmp/clipped_cog.tif\"\n",
    "data_product.clip(geojson_feature=clip_feature, out_raster=out_filename)"
   ]
  },
  {
   "cell_type": "markdown",
   "id": "b15729c0-43b3-465c-893e-10f9128f9b19",
   "metadata": {},
   "source": [
    "We will use leafmap once again to visualize the results."
   ]
  },
  {
   "cell_type": "code",
   "execution_count": null,
   "id": "a94f5c12-fafa-4493-821a-7d4eb8711af7",
   "metadata": {},
   "outputs": [],
   "source": [
    "m = leafmap.Map()\n",
    "m.add_raster(out_raster, colormap=\"rainbow\")\n",
    "m.add_geojson(map_layer, style={\"color\": \"black\", \"weight\": 3, \"fill\": False})\n",
    "m"
   ]
  },
  {
   "cell_type": "markdown",
   "id": "0708a61c-415f-484b-9cd8-2fcda3b9ac33",
   "metadata": {},
   "source": [
    "Once finished viewing your data, you can revoke your authorization session by logging out."
   ]
  },
  {
   "cell_type": "code",
   "execution_count": null,
   "id": "6341329d-d64e-4961-b6c0-26a2bcd9085c",
   "metadata": {},
   "outputs": [],
   "source": [
    "workspace.logout()"
   ]
  }
 ],
 "metadata": {
  "kernelspec": {
   "display_name": "Python 3 (ipykernel)",
   "language": "python",
   "name": "python3"
  },
  "language_info": {
   "codemirror_mode": {
    "name": "ipython",
    "version": 3
   },
   "file_extension": ".py",
   "mimetype": "text/x-python",
   "name": "python",
   "nbconvert_exporter": "python",
   "pygments_lexer": "ipython3",
   "version": "3.11.12"
  }
 },
 "nbformat": 4,
 "nbformat_minor": 5
}
