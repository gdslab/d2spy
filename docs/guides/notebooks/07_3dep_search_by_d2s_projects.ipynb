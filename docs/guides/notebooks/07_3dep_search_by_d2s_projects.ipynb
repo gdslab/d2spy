{
 "cells": [
  {
   "cell_type": "markdown",
   "id": "3c41552e-1743-49c1-aba8-29c2f2c8b1a9",
   "metadata": {},
   "source": [
    "[![image](https://colab.research.google.com/assets/colab-badge.svg)](https://colab.research.google.com/github/gdslab/d2spy/blob/main/docs/guides/notebooks/07_3dep_search_by_d2s_projects.ipynb)\n",
    "[![Jupyter Notebook](https://img.shields.io/badge/Open%20in%20JuypterHub%20-%20%233776AB?logo=jupyter&logoColor=%23F37626&labelColor=%23F5F5F5)](https://lab.d2s.org/hub/user-redirect/lab/tree/tutorials/07_3dep_search_by_d2s_projects.ipynb)"
   ]
  },
  {
   "cell_type": "markdown",
   "id": "96ecc0c8-52bc-4e2e-8b59-ae022a5a8d6a",
   "metadata": {},
   "source": [
    "# 3DEP search by D2S projects\n",
    "*This guide will walk you through the steps to search a STAC Catalog using the STAC API to find 3DEP items within a D2S project.*\n",
    "\n",
    "To get started, you'll need access to a D2S instance with existing projects. In addition to [`d2spy`](https://py.d2s.org), this guide will use Python packages [`pystac_client`](https://pystac-client.readthedocs.io/en/stable/) and [`numpy`](https://numpy.org/install/)."
   ]
  },
  {
   "cell_type": "code",
   "execution_count": null,
   "id": "b3832907-29d4-4a83-a8ee-a18665f321dd",
   "metadata": {},
   "outputs": [],
   "source": [
    "# Uncomment and run the following line if working out of Google Colab\n",
    "# !pip install pystac_client\n",
    "# !pip install numpy\n",
    "# !pip install d2spy"
   ]
  },
  {
   "cell_type": "code",
   "execution_count": null,
   "id": "010c6975-271d-4e32-b42c-70881df97d78",
   "metadata": {},
   "outputs": [],
   "source": [
    "import numpy as np\n",
    "from pystac_client import Client\n",
    "\n",
    "from d2spy.workspace import Workspace"
   ]
  },
  {
   "cell_type": "markdown",
   "id": "0ad3ebc0-12a4-4cbe-a721-a1625b1c935c",
   "metadata": {},
   "source": [
    "You must connect to your D2S workspace before you can request any data. The [`Workspace`](https://py.d2s.org/workspace/) module's [`connect`](https://py.d2s.org/workspace/#d2spy.workspace.Workspace.connect) method can be used to login to a D2S instance and connect to your workspace in one go.\n",
    "\n",
    "*Note: This tutorial uses a D2S instance hosted at https://ps2.d2s.org. You will need to have an account and access to data on this instance to use it. Change the URL if you are self-hosting an instance or using an instance hosted elsewhere.*"
   ]
  },
  {
   "cell_type": "code",
   "execution_count": null,
   "id": "28baed7e-f695-4ba4-802a-7ac4c588a701",
   "metadata": {},
   "outputs": [],
   "source": [
    "# Connect to D2S workspace\n",
    "workspace = Workspace.connect(\"https://ps2.d2s.org\", \"yourD2Semail@example.com\")"
   ]
  },
  {
   "cell_type": "markdown",
   "id": "9c108f3f-43be-4ded-ab88-0f87987234ed",
   "metadata": {},
   "source": [
    "Locate the project you're interested in for 3DEP data."
   ]
  },
  {
   "cell_type": "code",
   "execution_count": null,
   "id": "6841cb75-17be-41f0-9f3a-ce09209ca4d3",
   "metadata": {},
   "outputs": [],
   "source": [
    "# Change the search term in `.filter_by_title` to match your project\n",
    "project = workspace.get_projects().filter_by_title(\"INDOT\")[0]\n",
    "project_boundary = project.get_project_boundary()"
   ]
  },
  {
   "cell_type": "markdown",
   "id": "1ed78da0-6934-4e7c-b69b-2e5cead9e897",
   "metadata": {},
   "source": [
    "In an upcoming step, you will perform a spatial query using STAC API to find 3DEP items located within your project. This query will require providing STAC API with a bounding box, `[xmin, ymin, xmax, ymax]` for the project."
   ]
  },
  {
   "cell_type": "code",
   "execution_count": null,
   "id": "2062c1ac-2246-4e3d-aa26-5b543aa0d210",
   "metadata": {},
   "outputs": [],
   "source": [
    "# Load project boundary coordinates as numpy array\n",
    "boundary_arr = np.array(project_boundary[\"geometry\"][\"coordinates\"][0])\n",
    "# Create a bounding box for the project\n",
    "bounding_box = [\n",
    "    boundary_arr[:, 0].min(),\n",
    "    boundary_arr[:, 1].min(),\n",
    "    boundary_arr[:, 0].max(),\n",
    "    boundary_arr[:, 1].max()\n",
    "]"
   ]
  },
  {
   "cell_type": "markdown",
   "id": "efa3c2c5-7c16-4130-b9b8-db750f23074a",
   "metadata": {},
   "source": [
    "D2S provides a STAC API that hosts a 3DEP collection for you to search. The API is accessible at https://stac-api.d2s.org. For a more user-friendly interface to browse the data exposed by the API, visit https://stac.d2s.org. In the following cells, you'll connect to the STAC API using pystac_client and search the 3DEP collection using your bounding box."
   ]
  },
  {
   "cell_type": "code",
   "execution_count": null,
   "id": "30bea865-7950-4c20-a8e1-0bb883f9a4ab",
   "metadata": {},
   "outputs": [],
   "source": [
    "# Connect to STAC API\n",
    "client = Client.open(\"https://stac-api.d2s.org\")"
   ]
  },
  {
   "cell_type": "code",
   "execution_count": null,
   "id": "7d7ef3f6-d7b0-4fc8-98c6-a433c56ff241",
   "metadata": {},
   "outputs": [],
   "source": [
    "# Search 3DEP collection\n",
    "search = client.search(\n",
    "    max_items=10,\n",
    "    collections=[\"3dep\"],\n",
    "    bbox=bounding_box,\n",
    ")"
   ]
  },
  {
   "cell_type": "code",
   "execution_count": null,
   "id": "2b2174ee-0ffb-4a02-bea0-56ad2acdda18",
   "metadata": {},
   "outputs": [],
   "source": [
    "# Print STAC Item ID and STAC Browser URL for search results\n",
    "stac_browser_base_item_url = \"https://stac.d2s.org/collections/3dep/items\"\n",
    "for item in search.items():\n",
    "    print(f\"ID: {item.id}, URL: {stac_browser_base_item_url}/{item.id}\")\n",
    "    # You can also directly access the asset URL from the item\n",
    "    # item.assets[\"ept.json\"].href"
   ]
  },
  {
   "cell_type": "markdown",
   "id": "2cc46b07-87e7-4a49-95d0-66cc386bf21c",
   "metadata": {},
   "source": [
    "Once finished viewing your data, you can revoke your authorization session by logging out."
   ]
  },
  {
   "cell_type": "code",
   "execution_count": null,
   "id": "39f23a08-7dea-4cf0-825d-baae265dfc1f",
   "metadata": {},
   "outputs": [],
   "source": [
    "workspace.logout()"
   ]
  }
 ],
 "metadata": {
  "kernelspec": {
   "display_name": "Python 3 (ipykernel)",
   "language": "python",
   "name": "python3"
  },
  "language_info": {
   "codemirror_mode": {
    "name": "ipython",
    "version": 3
   },
   "file_extension": ".py",
   "mimetype": "text/x-python",
   "name": "python",
   "nbconvert_exporter": "python",
   "pygments_lexer": "ipython3",
   "version": "3.11.12"
  }
 },
 "nbformat": 4,
 "nbformat_minor": 5
}
