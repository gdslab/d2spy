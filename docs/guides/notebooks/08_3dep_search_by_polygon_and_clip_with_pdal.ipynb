{
 "cells": [
  {
   "cell_type": "markdown",
   "id": "a0fb3bfe-94ce-4368-82de-e3a5e46d10d3",
   "metadata": {
    "id": "a0fb3bfe-94ce-4368-82de-e3a5e46d10d3"
   },
   "source": [
    "[![image](https://colab.research.google.com/assets/colab-badge.svg)](https://colab.research.google.com/github/gdslab/d2spy/blob/main/docs/guides/notebooks/08_3dep_search_by_polygon_and_clip_with_pdal.ipynb)\n",
    "[![Jupyter Notebook](https://img.shields.io/badge/Open%20in%20JuypterHub%20-%20%233776AB?logo=jupyter&logoColor=%23F37626&labelColor=%23F5F5F5)](https://lab.d2s.org/hub/user-redirect/lab/tree/tutorials/08_3dep_search_by_polygon_and_clip_with_pdal.ipynb)"
   ]
  },
  {
   "cell_type": "markdown",
   "id": "40cdbbb5-9131-4b14-8b19-66067483320a",
   "metadata": {
    "id": "40cdbbb5-9131-4b14-8b19-66067483320a"
   },
   "source": [
    "# 3DEP search by polygon and clip with PDAL\n",
    "*This guide will walk you through the steps to search a STAC Catalog using the STAC API to find 3DEP items within a polygon.*\n",
    "\n",
    "This guide will use Python packages [`geopandas`](https://geopandas.org/en/v1.0.1/getting_started.html), [`leafmap`](https://github.com/opengeos/leafmap), [`pdal`](https://pdal.io/en/2.7.2/python.html), and [`pystac_client`](https://pystac-client.readthedocs.io/en/stable/).\n",
    "\n",
    "**Important**\n",
    "You'll also need GDAL and PDAL installed on your system. If you're using Conda to manage your Python environment, these libraries will be installed automatically. Otherwise, you'll need to install GDAL and PDAL manually before using pip to install the Python extensions."
   ]
  },
  {
   "cell_type": "code",
   "execution_count": null,
   "id": "1221d2c8-2d44-4e4e-a9b2-78b4cd559d19",
   "metadata": {
    "id": "1221d2c8-2d44-4e4e-a9b2-78b4cd559d19"
   },
   "outputs": [],
   "source": [
    "# Uncomment and run the following line if working out of Google Colab\n",
    "# !pip install geopandas\n",
    "# !pip install leafmap\n",
    "# !pip install pdal\n",
    "# !pip install pystac_client"
   ]
  },
  {
   "cell_type": "code",
   "execution_count": null,
   "id": "a39055c5-d04a-43d8-9803-4ffb78e3622f",
   "metadata": {
    "id": "a39055c5-d04a-43d8-9803-4ffb78e3622f"
   },
   "outputs": [],
   "source": [
    "import json\n",
    "import sys\n",
    "\n",
    "import geopandas as gpd\n",
    "import leafmap\n",
    "import pdal\n",
    "from pystac_client import Client"
   ]
  },
  {
   "cell_type": "markdown",
   "id": "d5ab011d-a335-4d3d-a98d-92e39fe4a276",
   "metadata": {
    "id": "d5ab011d-a335-4d3d-a98d-92e39fe4a276"
   },
   "source": [
    "You will need local polygon data in either shapefile or GeoPackage format for the next cell. GeoPandas will read the local file into a DataFrame. Alternatively, you can comment out the first line, uncomment the second line, and provide the URL to a remote polygon dataset, such as a zipped shapefile."
   ]
  },
  {
   "cell_type": "code",
   "execution_count": null,
   "id": "5c332d7b-4c84-44a2-af17-1fd19791acb2",
   "metadata": {
    "id": "5c332d7b-4c84-44a2-af17-1fd19791acb2"
   },
   "outputs": [],
   "source": [
    "vector_file = \"/Volumes/jj/data/purdue/d2s_workshop_example_data/boundary.shp\"\n",
    "# vector_file = \"https://workshop.d2s.org/sample_data/project_boundary.zip\"\n",
    "poly = gpd.read_file(vector_file)\n",
    "\n",
    "# Now convert the boundary to EPSG:4326\n",
    "poly = poly.to_crs(\"EPSG:4326\")"
   ]
  },
  {
   "cell_type": "markdown",
   "id": "9b3e8241-96f9-44cf-8111-094b3f78cc61",
   "metadata": {
    "id": "9b3e8241-96f9-44cf-8111-094b3f78cc61"
   },
   "source": [
    "D2S provides a STAC API that hosts a 3DEP collection for you to search. The API is accessible at https://stac-api.d2s.org. For a more user-friendly interface to browse the data exposed by the API, visit https://stac.d2s.org. In the following cells, you'll connect to the STAC API using pystac_client and search the 3DEP collection using your bounding box."
   ]
  },
  {
   "cell_type": "code",
   "execution_count": null,
   "id": "aca01235-ebee-4888-b409-68d6c94221db",
   "metadata": {
    "id": "aca01235-ebee-4888-b409-68d6c94221db"
   },
   "outputs": [],
   "source": [
    "# Connect to STAC API\n",
    "client = Client.open(\"https://stac-api.d2s.org\")"
   ]
  },
  {
   "cell_type": "code",
   "execution_count": null,
   "id": "4c9f707c-b5e1-4f9a-85f5-bc960ee58dc5",
   "metadata": {
    "id": "4c9f707c-b5e1-4f9a-85f5-bc960ee58dc5"
   },
   "outputs": [],
   "source": [
    "# Get bounding box [xmin, ymin, xmax, ymax] for polygon\n",
    "bounding_box = poly.total_bounds.tolist()\n",
    "\n",
    "# Search 3DEP collection\n",
    "search = client.search(\n",
    "    max_items=10,\n",
    "    collections=[\"3dep\"],\n",
    "    bbox=bounding_box,\n",
    ")"
   ]
  },
  {
   "cell_type": "code",
   "execution_count": null,
   "id": "d47dddaf-628e-463c-a7b4-95d289934cb0",
   "metadata": {
    "id": "d47dddaf-628e-463c-a7b4-95d289934cb0"
   },
   "outputs": [],
   "source": [
    "# Print STAC Item ID and STAC Browser URL for search results\n",
    "stac_browser_base_item_url = \"https://stac.d2s.org/collections/3dep/items\"\n",
    "items = []\n",
    "for item in search.items():\n",
    "    print(f\"ID: {item.id}, URL: {stac_browser_base_item_url}/{item.id}\")\n",
    "    # You can also directly access the asset URL from the item\n",
    "    print(f\"URL: {item.assets['ept.json'].href}\\n\")\n",
    "    items.append(item)"
   ]
  },
  {
   "cell_type": "markdown",
   "id": "5a465fbb-5476-4ba6-aaf7-4f1cc63cf5ae",
   "metadata": {
    "id": "5a465fbb-5476-4ba6-aaf7-4f1cc63cf5ae"
   },
   "source": [
    "## Clip and export DTM with PDAL\n",
    "In this final section, you will create and run a PDAL pipeline to clip an EPT dataset from the search results to fit within your polygon boundary. The pipeline will export the clipped point cloud as a .laz file and also generate a DTM for the specified area. For a more in-depth explanation of the pipeline process, refer to the official PDAL documentation: https://pdal.io/en/2.4.3/tutorial/iowa-entwine.html."
   ]
  },
  {
   "cell_type": "code",
   "execution_count": null,
   "id": "438d6486-f8c0-48fd-a1a3-a47ad742bae4",
   "metadata": {
    "id": "438d6486-f8c0-48fd-a1a3-a47ad742bae4"
   },
   "outputs": [],
   "source": [
    "# Choose the item to clip\n",
    "item = items[1]\n",
    "\n",
    "# EPT data for USGS 3DEP LiDAR is in EPSG:3857 \n",
    "# Read more: (https://github.com/hobuinc/usgs-lidar?tab=readme-ov-file#coordinate-system)\n",
    "epsg_code = \"EPSG:3857\"\n",
    "\n",
    "# Reproject polygon to match first item's coordinate system\n",
    "poly = poly.to_crs(epsg_code)\n",
    "bounding_box = poly.total_bounds.tolist()\n",
    "\n",
    "# Get Asset URL for first item\n",
    "asset_url = item.assets[\"ept.json\"].href"
   ]
  },
  {
   "cell_type": "code",
   "execution_count": null,
   "id": "72dad02a-8763-4edd-a1bd-25eddcc17be1",
   "metadata": {
    "id": "72dad02a-8763-4edd-a1bd-25eddcc17be1"
   },
   "outputs": [],
   "source": [
    "# Provide different filepath and name if desired\n",
    "out_laz_filename = \"./clip.laz\"\n",
    "out_tif_filename = \"./clip.tif\"\n",
    "\n",
    "# Coordinate system for output\n",
    "out_epsg = \"EPSG:26916\"\n",
    "\n",
    "# Pipeline\n",
    "json_dict = {\n",
    "    \"pipeline\": [\n",
    "        {\n",
    "            \"bounds\": f\"([{bounding_box[0]}, {bounding_box[2]}], [{bounding_box[1]}, {bounding_box[3]}])\",\n",
    "            \"filename\": asset_url,\n",
    "            \"type\": \"readers.ept\",\n",
    "            \"tag\": \"readdata\"\n",
    "        },\n",
    "        {\n",
    "            \"limits\": \"Classification![7:7]\",\n",
    "            \"type\": \"filters.range\",\n",
    "            \"tag\": \"nonoise\"\n",
    "        },\n",
    "        {\n",
    "            \"assignment\": \"Classification[:]=0\",\n",
    "            \"type\": \"filters.assign\",\n",
    "            \"tag\": \"wipeclasses\"\n",
    "        },\n",
    "        {\n",
    "            \"out_srs\": out_epsg,\n",
    "            \"type\": \"filters.reprojection\",\n",
    "            \"tag\": \"reprojectUTM\"\n",
    "        },\n",
    "        {\n",
    "            \"tag\": \"groundify\",\n",
    "            \"type\": \"filters.smrf\"\n",
    "        },\n",
    "        {\n",
    "            \"limits\": \"Classification[2:2]\",\n",
    "            \"type\": \"filters.range\",\n",
    "            \"tag\": \"classify\"\n",
    "        },\n",
    "        {\n",
    "            \"filename\": out_laz_filename,\n",
    "            \"inputs\": [ \"classify\" ],\n",
    "            \"type\": \"writers.las\",\n",
    "            \"tag\": \"writerslas\"\n",
    "        },\n",
    "        {\n",
    "            \"filename\": out_tif_filename,\n",
    "            \"gdalopts\": \"tiled=yes,     compress=deflate\",\n",
    "            \"inputs\": [ \"writerslas\" ],\n",
    "            \"nodata\": -9999,\n",
    "            \"output_type\": \"idw\",\n",
    "            \"resolution\": 1,\n",
    "            \"type\": \"writers.gdal\",\n",
    "            \"window_size\": 6\n",
    "        }\n",
    "    ]\n",
    "}"
   ]
  },
  {
   "cell_type": "code",
   "execution_count": null,
   "id": "cc2cd78b-886b-4cf7-a88c-dbc2addc2652",
   "metadata": {
    "id": "cc2cd78b-886b-4cf7-a88c-dbc2addc2652"
   },
   "outputs": [],
   "source": [
    "# Execute pipeline\n",
    "pipeline = pdal.Pipeline(json.dumps(json_dict))\n",
    "count = pipeline.execute()"
   ]
  },
  {
   "cell_type": "code",
   "execution_count": null,
   "id": "eaabb918-efa5-4f79-9f1f-1f9dc1635eae",
   "metadata": {
    "id": "eaabb918-efa5-4f79-9f1f-1f9dc1635eae"
   },
   "outputs": [],
   "source": [
    "# Display DTM on map\n",
    "m = leafmap.Map()\n",
    "m.add_raster(\"clip.tif\", colormap=\"gray\")\n",
    "m.add_geojson(json.loads(poly.to_json(to_wgs84=True)), style={\"color\": \"yellow\", \"weight\": 3, \"fill\": False})\n",
    "m"
   ]
  }
 ],
 "metadata": {
  "colab": {
   "provenance": []
  },
  "kernelspec": {
   "display_name": "Python 3 (ipykernel)",
   "language": "python",
   "name": "python3"
  },
  "language_info": {
   "codemirror_mode": {
    "name": "ipython",
    "version": 3
   },
   "file_extension": ".py",
   "mimetype": "text/x-python",
   "name": "python",
   "nbconvert_exporter": "python",
   "pygments_lexer": "ipython3",
   "version": "3.12.5"
  }
 },
 "nbformat": 4,
 "nbformat_minor": 5
}
