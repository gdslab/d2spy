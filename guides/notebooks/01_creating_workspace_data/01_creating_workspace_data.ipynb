{
 "cells": [
  {
   "cell_type": "markdown",
   "id": "6cb79d27-e9b5-48e1-8331-9b20155a1fb1",
   "metadata": {},
   "source": [
    "[![image](https://colab.research.google.com/assets/colab-badge.svg)](https://colab.research.google.com/github/gdslab/d2spy/blob/main/docs/guides/notebooks/01_creating_workspace_data.ipynb)\n",
    "[![Jupyter Notebook](https://img.shields.io/badge/Open%20in%20JuypterHub%20-%20%233776AB?logo=jupyter&logoColor=%23F37626&labelColor=%23F5F5F5)](https://lab.d2s.org/hub/user-redirect/lab/tree/tutorials/01_creating_workspace_data.ipynb)"
   ]
  },
  {
   "cell_type": "markdown",
   "id": "103c50ad-69c2-4a22-bbaa-c3993816b8c3",
   "metadata": {},
   "source": [
    "# Creating new projects, flights, and data products\n",
    "*This guide will walk you through the steps for creating new data on a Data to Science (D2S) instance.*\n",
    "\n",
    "To get started, you will need to import the `Workspace` modules."
   ]
  },
  {
   "cell_type": "code",
   "execution_count": null,
   "id": "b87a549b-c1a7-46ac-ba43-5c6cfd9c3895",
   "metadata": {},
   "outputs": [],
   "source": [
    "# Uncomment and run the following line if working out of Google Colab\n",
    "# !pip install d2spy"
   ]
  },
  {
   "cell_type": "code",
   "execution_count": null,
   "id": "dc65d0ab-7d3f-4cfa-bb4d-f69fced95e6c",
   "metadata": {},
   "outputs": [],
   "source": [
    "from datetime import date\n",
    "\n",
    "from d2spy.workspace import Workspace"
   ]
  },
  {
   "cell_type": "markdown",
   "id": "d023024e-9718-4f18-87c9-0e5472d78064",
   "metadata": {},
   "source": [
    "All of your D2S data can be accessed through a D2S \"workspace.\" The [`Workspace`](https://py.d2s.org/workspace/) module's [`connect`](https://py.d2s.org/workspace/#d2spy.workspace.Workspace.connect) method can be used to login to a D2S instance and connect to your workspace in one go. Behind the scenes, the [`Auth`](https://py.d2s.org/auth/) module will be used to handle authenticating with D2S and requesting an authorization token. You will need to provide `connect` with the URL to your D2S instance and enter your password when prompted. Once connected to your workspace, you will be able to start creating projects within it."
   ]
  },
  {
   "cell_type": "code",
   "execution_count": null,
   "id": "42c6b131-5bd0-40c4-b191-d4c49c2c4b09",
   "metadata": {},
   "outputs": [],
   "source": [
    "# Example of connecting to a workspace for a local D2S instance\n",
    "workspace = Workspace.connect(\"http://localhost:8000\", \"yourD2Semail@example.com\")"
   ]
  },
  {
   "cell_type": "markdown",
   "id": "0ee28aad-92b4-4c89-9658-54b5f1e1c9a8",
   "metadata": {},
   "source": [
    "## Creating a new project"
   ]
  },
  {
   "cell_type": "markdown",
   "id": "0b176324-6525-4568-bd6f-a1f19d04f59a",
   "metadata": {},
   "source": [
    "To create a new project in our workspace, we can use the Workspace module's [`add_project`](https://py.d2s.org/workspace/#d2spy.workspace.Workspace.add_project) method as follows:"
   ]
  },
  {
   "cell_type": "code",
   "execution_count": null,
   "id": "39d94ab8-3ffe-487a-8021-6d4c137c8783",
   "metadata": {},
   "outputs": [],
   "source": [
    "# At minimum, must provide title, description, and location (dict in GeoJSON Feature format)\n",
    "project = workspace.add_project(\n",
    "    title=\"Project title\",\n",
    "    description=\"Project for testing d2spy package.\",\n",
    "    location={\n",
    "        \"type\": \"Feature\",\n",
    "        \"geometry\": {\n",
    "            \"type\": \"Polygon\",\n",
    "            \"coordinates\": [\n",
    "                [\n",
    "                  [-86.944981783977838, 41.444435853085622],\n",
    "                  [-86.943319754949272, 41.444435046238446],\n",
    "                  [-86.94332056379109, 41.443505552529658],\n",
    "                  [-86.944982569102066, 41.443506359350643],\n",
    "                  [-86.944981783977838, 41.444435853085622]\n",
    "                ]\n",
    "            ]\n",
    "        },\n",
    "        \"properties\": {\n",
    "            \"prop0\": \"value0\"\n",
    "        }\n",
    "    },\n",
    "    start_date=date(2024, 4, 15), # Optional\n",
    "    end_date=date(2024, 9, 15) # Optional\n",
    ")\n",
    "print(project)"
   ]
  },
  {
   "cell_type": "markdown",
   "id": "c2b86612-84d9-4015-bf14-1f8b63d11492",
   "metadata": {},
   "source": [
    "### Optional information\n",
    "\n",
    "If you don't have the coordinates for the project location but have a directory of raw images or a zip file from a flight, you can use our utility function to extract the bounding box coordinates from the images' EXIF data. Here's an example:\n",
    "\n",
    "```python\n",
    "from d2spy.extras.utils import get_bounding_box_from_exif_data\n",
    "\n",
    "coordinates = get_bounding_box_from_exif_data(\"/path/to/image_dir\")\n",
    "# coordinates = get_bounding_box_from_exif_data(\"/path/to/images.zip\")  # Zip files work too\n",
    "```\n",
    "\n",
    "You can use these coordinates as the project location when creating your project."
   ]
  },
  {
   "cell_type": "markdown",
   "id": "226f2cc0-c529-4904-bd3f-318c5a80f8b4",
   "metadata": {},
   "source": [
    "The Workspace module's `add_project` returns a [`Project`](https://py.d2s.org/project/) instance we can use to create new flights in the project, retrieve existing flights, and update the initially provided project details.\n",
    "\n",
    "For example, we can use the Project [`update`](https://py.d2s.org/project/#d2spy.models.project.Project.update) method to change the project title."
   ]
  },
  {
   "cell_type": "code",
   "execution_count": null,
   "id": "d19141d4-9ad5-4e24-a54c-4b619c5b3516",
   "metadata": {},
   "outputs": [],
   "source": [
    "print(f\"Original title: {project.title}\")\n",
    "project.update(title=\"My First D2S Project\")\n",
    "print(f\"Updated title: {project.title}\")"
   ]
  },
  {
   "cell_type": "markdown",
   "id": "3975d503-baa0-4bf7-8b44-c9d02dd30733",
   "metadata": {},
   "source": [
    "## Adding a flight to a project"
   ]
  },
  {
   "cell_type": "markdown",
   "id": "34108f51-5961-499e-bbcc-40b53cd09b66",
   "metadata": {},
   "source": [
    "Since this is a new project, we do not have any available flights yet. We can add a flight using the Project module's [`add_flight`](https://py.d2s.org/project/#d2spy.models.project.Project.add_flight) method.\n",
    "\n",
    "**Important**\n",
    "\n",
    "The `sensor` and `platform` attributes have some limits on what values will be accepted. `Sensor` will only accept the values: \"RGB\", \"Multispectral\", \"LiDAR\", and \"Other\". `Platform` expects the values \"Phantom_4\", \"M300\", or \"M350\". It can be provided with an alternative value if none of these options are suitable. \n",
    "\n",
    "Refer to the [documentation](https://py.d2s.org/project/#d2spy.models.project.Project.add_flight) for more details."
   ]
  },
  {
   "cell_type": "code",
   "execution_count": null,
   "id": "281dc984-c73b-44c8-8483-c2bb1365a114",
   "metadata": {},
   "outputs": [],
   "source": [
    "# Example flight form\n",
    "flight = project.add_flight(\n",
    "    acquisition_date=date(2023, 6, 3),  # string in YYYY-MM-DD format also acceptable\n",
    "    altitude=40,\n",
    "    side_overlap=85,\n",
    "    forward_overlap=85,\n",
    "    sensor=\"RGB\",\n",
    "    platform=\"M350\"\n",
    ")\n",
    "print(flight)"
   ]
  },
  {
   "cell_type": "markdown",
   "id": "59221abe-066f-41e9-aada-262e0cd825a3",
   "metadata": {},
   "source": [
    "## Uploading a data product to a flight"
   ]
  },
  {
   "cell_type": "markdown",
   "id": "0ee7e2fd-99aa-4fc7-acb1-966f3eb08c06",
   "metadata": {},
   "source": [
    "Now that a flight has been created, you can start uploading data products to the flight. Note, the data product will not be immediately available after the upload completes. When D2S receives a new GeoTIFF, it will check if it is in a cloud-optimized format, and if not, perform this conversion. This process may take several minutes to complete."
   ]
  },
  {
   "cell_type": "markdown",
   "id": "0b16a94b-520e-4249-93de-40e8b782f33b",
   "metadata": {},
   "source": [
    "The Flight module's [`add_data_product`](https://py.d2s.org/flight/#d2spy.models.flight.Flight.add_data_product) method will be used to upload a GeoTIFF located on the local machine. You will need to have a GeoTIFF and know its filepath for this next cell.\n",
    "\n",
    "**Important**\n",
    "\n",
    "The `data_type` has some limits on what values will be accepted. `data_type` expects the values \"dsm\", \"point_cloud\", or \"ortho\". It can be provided with an alternative value if none of these options are suitable. \n",
    "\n",
    "Refer to the [documentation](https://py.d2s.org/flight/#d2spy.models.flight.Flight.add_data_product) for more details."
   ]
  },
  {
   "cell_type": "code",
   "execution_count": null,
   "id": "876ad429-7f77-4573-bc7b-9ff9477b5c89",
   "metadata": {},
   "outputs": [],
   "source": [
    "my_geotiff = \"/full/path/to/my/data_product.tif\"\n",
    "flight.add_data_product(\n",
    "    filepath=my_geotiff,\n",
    "    data_type=\"dsm\"\n",
    ")"
   ]
  },
  {
   "cell_type": "markdown",
   "id": "ca026bb1-26eb-4726-858c-fc66e124966a",
   "metadata": {},
   "source": [
    "When D2S has finished processing the upload, the Flight module's [`get_data_products`](https://py.d2s.org/flight/#d2spy.models.flight.Flight.get_data_products) method can be used to find the uploaded data product and its static URL."
   ]
  },
  {
   "cell_type": "code",
   "execution_count": null,
   "id": "09605ad7-107b-48a4-bb98-26b41197b94c",
   "metadata": {},
   "outputs": [],
   "source": [
    "data_products = flight.get_data_products()\n",
    "try:\n",
    "    print(data_products[0].url)\n",
    "except IndexError:\n",
    "    print(\"Data product still processing or an unexpected error has occurred\")"
   ]
  },
  {
   "cell_type": "markdown",
   "id": "1dcf6c9f-551f-410c-b23c-66bc48888a75",
   "metadata": {},
   "source": [
    "## Uploading raw data to a flight"
   ]
  },
  {
   "cell_type": "markdown",
   "id": "0653d5cd-ebbb-4c7e-86ec-9ff2b65f27e7",
   "metadata": {},
   "source": [
    "Zipped raw data can also be uploaded to a flight using d2spy. In the next cell, the Flight module's [`add_raw_data`](https://py.d2s.org/flight/#d2spy.models.flight.Flight.add_raw_data) method will be used to upload a zipped folder containing raw images located on the local machine."
   ]
  },
  {
   "cell_type": "code",
   "execution_count": null,
   "id": "bb12e771-7153-4418-9fb1-8512fba19fdf",
   "metadata": {},
   "outputs": [],
   "source": [
    "my_rawdata = \"/full/path/to/my/raw_data.zip\"\n",
    "flight.add_raw_data(filepath=my_rawdata)"
   ]
  },
  {
   "cell_type": "markdown",
   "id": "d51d8a82-8903-49d7-ab1f-1171b491ac3b",
   "metadata": {},
   "source": [
    "When D2S has finished processing the upload, the Flight module's [`get_raw_data`](https://py.d2s.org/flight/#d2spy.models.flight.Flight.get_raw_data) method can be used to find the uploaded raw data zip and its static URL."
   ]
  },
  {
   "cell_type": "code",
   "execution_count": null,
   "id": "3cf6d110-8dd0-4751-90a5-47dc470daa29",
   "metadata": {},
   "outputs": [],
   "source": [
    "raw_data = flight.get_raw_data()\n",
    "try:\n",
    "    print(raw_data[0].url)\n",
    "except IndexError:\n",
    "    print(\"Raw data is still processing or an unexpected error has occurred\")"
   ]
  },
  {
   "cell_type": "markdown",
   "id": "f15f8cd0-e94d-46cd-a7fe-16b0d978c390",
   "metadata": {},
   "source": [
    "## Add vector map layers to a project"
   ]
  },
  {
   "cell_type": "markdown",
   "id": "9d8b65c4-0b35-4360-8a47-6e3d47d8cf7a",
   "metadata": {},
   "source": [
    "Vector data in the GeoJSON Feature Collection format can be added to a project using a Project's [`add_map_layer`](https://py.d2s.org/project/#d2spy.models.project.Project.add_map_layer) method. The method's `layer_name` parameter can be used to name the map layer."
   ]
  },
  {
   "cell_type": "code",
   "execution_count": null,
   "id": "55429682-ed83-4872-8156-89579e6d1e9e",
   "metadata": {},
   "outputs": [],
   "source": [
    "layer_name = \"My Map Layer\"\n",
    "feature_collection = {\n",
    "    \"type\": \"FeatureCollection\",\n",
    "    \"features\": [\n",
    "        {\n",
    "            \"type\": \"Feature\",\n",
    "            \"properties\": {\"row\": 1, \"col\": 1},\n",
    "            \"geometry\": {\n",
    "                \"type\": \"Polygon\",\n",
    "                \"coordinates\": [\n",
    "                    [\n",
    "                        [-86.944517485972483, 41.444077836565455, 0.0],\n",
    "                        [-86.94450551488066, 41.444077830791521, 0.0],\n",
    "                        [-86.94450552255509, 41.444068823253602, 0.0],\n",
    "                        [-86.94451749364525, 41.444068829027536, 0.0],\n",
    "                        [-86.944517485972483, 41.444077836565455, 0.0],\n",
    "                    ]\n",
    "                ],\n",
    "            },\n",
    "        },\n",
    "        {\n",
    "            \"type\": \"Feature\",\n",
    "            \"properties\": {\"row\": 1, \"col\": 2},\n",
    "            \"geometry\": {\n",
    "                \"type\": \"Polygon\",\n",
    "                \"coordinates\": [\n",
    "                    [\n",
    "                        [-86.944493543788852, 41.444077825016343, 0.0],\n",
    "                        [-86.944481572697043, 41.444077819239929, 0.0],\n",
    "                        [-86.94448158037477, 41.44406881170201, 0.0],\n",
    "                        [-86.94449355146493, 41.444068817478424, 0.0],\n",
    "                        [-86.944493543788852, 41.444077825016343, 0.0],\n",
    "                    ]\n",
    "                ],\n",
    "            },\n",
    "        },\n",
    "    ],\n",
    "}\n",
    "# Add the map layer to the project\n",
    "map_layer_feature_collection = project.add_map_layer(feature_collection=feature_collection, layer_name=layer_name)\n",
    "\n",
    "# The returned feature collection will contain additional D2S metadata such as the URL for a preview image of the map layer\n",
    "print(map_layer_feature_collection[\"metadata\"][\"preview_url\"])"
   ]
  },
  {
   "cell_type": "markdown",
   "id": "b0626543-4b6e-468c-8669-8ae7bdeb1d90",
   "metadata": {},
   "source": [
    "These are all the methods you need to know for viewing what data your account can access on a D2S instance. Once finished exploring your data, you can revoke your authorization session by logging out.\n"
   ]
  },
  {
   "cell_type": "code",
   "execution_count": null,
   "id": "f4061d99-f8e4-41a9-ac09-de4ca1015553",
   "metadata": {},
   "outputs": [],
   "source": [
    "# Removes access token from future requests\n",
    "workspace.logout()"
   ]
  }
 ],
 "metadata": {
  "kernelspec": {
   "display_name": "Python 3 (ipykernel)",
   "language": "python",
   "name": "python3"
  },
  "language_info": {
   "codemirror_mode": {
    "name": "ipython",
    "version": 3
   },
   "file_extension": ".py",
   "mimetype": "text/x-python",
   "name": "python",
   "nbconvert_exporter": "python",
   "pygments_lexer": "ipython3",
   "version": "3.12.6"
  }
 },
 "nbformat": 4,
 "nbformat_minor": 5
}
