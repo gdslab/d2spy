{
 "cells": [
  {
   "cell_type": "markdown",
   "id": "d9f211fc",
   "metadata": {},
   "source": [
    "[![image](https://colab.research.google.com/assets/colab-badge.svg)](https://colab.research.google.com/github/gdslab/d2spy/blob/main/docs/guides/notebooks/02_accessing_your_workspace.ipynb)\n",
    "[![Jupyter Notebook](https://img.shields.io/badge/Open%20in%20JuypterHub%20-%20%233776AB?logo=jupyter&logoColor=%23F37626&labelColor=%23F5F5F5)](https://lab.d2s.org/hub/user-redirect/lab/tree/tutorials/02_accessing_your_workspace.ipynb)"
   ]
  },
  {
   "cell_type": "markdown",
   "id": "b08de278-9221-44d8-bafb-90f956c373a1",
   "metadata": {},
   "source": [
    "# Accessing your workspace projects, flights, and data products\n",
    "*This guide will walk you through the steps for requesting data from a Data to Science (D2S) instance.*\n",
    "\n",
    "To get started, you will need to import the `Workspace` module."
   ]
  },
  {
   "cell_type": "code",
   "execution_count": null,
   "id": "48188750",
   "metadata": {},
   "outputs": [],
   "source": [
    "# Uncomment and run the following line if working out of Google Colab\n",
    "# !pip install d2spy"
   ]
  },
  {
   "cell_type": "code",
   "execution_count": null,
   "id": "f83cfde3-3992-494f-a4c2-c14d5cc44186",
   "metadata": {},
   "outputs": [],
   "source": [
    "from datetime import date\n",
    "\n",
    "from d2spy.workspace import Workspace"
   ]
  },
  {
   "cell_type": "markdown",
   "id": "021f8af6-2807-4e23-a56e-5e3d72b60f16",
   "metadata": {},
   "source": [
    "All of your D2S data can be accessed through a D2S \"workspace.\" The [`Workspace`](https://py.d2s.org/workspace/) module's [`connect`](https://py.d2s.org/workspace/#d2spy.workspace.Workspace.connect) method can be used to login to a D2S instance and connect to your workspace in one go. Behind the scenes, the [`Auth`](https://py.d2s.org/auth/) module will be used to handle authenticating with D2S and requesting an authorization token. You will need to provide `connect` with the URL to your D2S instance and enter your password when prompted."
   ]
  },
  {
   "cell_type": "code",
   "execution_count": null,
   "id": "791949ec-4cd6-4ea0-86e7-66c84f155421",
   "metadata": {},
   "outputs": [],
   "source": [
    "# Example of connecting to a workspace for a local D2S instance\n",
    "workspace = Workspace.connect(\"https://ps2.d2s.org\")"
   ]
  },
  {
   "cell_type": "markdown",
   "id": "630a79ea-0a01-4fbb-a1b2-4703448b44e1",
   "metadata": {},
   "source": [
    "The Workspace [`get_projects`](https://py.d2s.org/workspace/#d2spy.workspace.Workspace.get_projects) method will retrieve a collection of the projects your account can currently access on the D2S instance."
   ]
  },
  {
   "cell_type": "code",
   "execution_count": null,
   "id": "33e43444-64b9-4a85-9fbb-8251c3d27009",
   "metadata": {},
   "outputs": [],
   "source": [
    "# Get list of all your projects\n",
    "projects = workspace.get_projects()\n",
    "# Print title of first project (if one exists)\n",
    "if len(projects) > 0:\n",
    "    print(projects[0])\n",
    "else:\n",
    "    print(\"Please create a project before proceeding with this guide.\")"
   ]
  },
  {
   "cell_type": "markdown",
   "id": "d2d88bea-cff8-49da-b030-4c927b74d586",
   "metadata": {},
   "source": [
    "The `projects` variable is a [`ProjectCollection`](https://py.d2s.org/project_collection/). The collection can be filtered by either the project descriptions or titles using the methods [`filter_by_title`](https://py.d2s.org/project_collection/#d2spy.models.project_collection.ProjectCollection.filter_by_description) or [`filter_by_name`](https://py.d2s.org/project_collection/#d2spy.models.project_collection.ProjectCollection.filter_by_title)."
   ]
  },
  {
   "cell_type": "code",
   "execution_count": null,
   "id": "fd767791-9443-42d0-b6f5-9846ebf7fc3b",
   "metadata": {},
   "outputs": [],
   "source": [
    "# Example of creating new collection of only projects with the keyword \"Test\" in the title\n",
    "filtered_projects = projects.filter_by_title(\"Test\")\n",
    "print(filtered_projects)"
   ]
  },
  {
   "cell_type": "markdown",
   "id": "28eb0af1-e6d3-4931-b16e-9cb6b59d0642",
   "metadata": {},
   "source": [
    "The Project [`get_project_boundary`](https://py.d2s.org/project/#d2spy.models.project.Project.get_project_boundary) method will retrieve a GeoJSON object of the project boundary."
   ]
  },
  {
   "cell_type": "code",
   "execution_count": null,
   "id": "03bd1734-d45a-4f1b-84c3-72e08eae7db9",
   "metadata": {},
   "outputs": [],
   "source": [
    "# Get project boundary as Python dictionary in GeoJSON structure\n",
    "project_boundary = projects[0].get_project_boundary()\n",
    "print(project_boundary)"
   ]
  },
  {
   "cell_type": "markdown",
   "id": "1aa0acd0-b1c1-411a-b5ad-3b583785d5d7",
   "metadata": {},
   "source": [
    "The Project [`get_flights`](https://py.d2s.org/project/#d2spy.models.project.Project.get_flights) method will retrieve a list of the flights associated with a project."
   ]
  },
  {
   "cell_type": "code",
   "execution_count": null,
   "id": "c2520341-ca07-49a8-8889-4b4f15d71080",
   "metadata": {},
   "outputs": [],
   "source": [
    "# Get list of all flights for a project\n",
    "flights = projects[0].get_flights()\n",
    "# Print first flight object (if one exists)\n",
    "if len(flights) > 0:\n",
    "    print(flights[0])"
   ]
  },
  {
   "cell_type": "markdown",
   "id": "509d34c6-9ea2-4568-b6f8-0a5dc97ac2c0",
   "metadata": {},
   "source": [
    "The `flights` variable is a [`FlightCollection`](https://py.d2s.org/flight_collection/). The collection can be filtered by the acquisition date using the method [`filter_by_date`](https://py.d2s.org/flight_collection/#d2spy.models.flight_collection.FlightCollection.filter_by_date). This method will return all flights with an acquisition date bewteen the provided start and end dates."
   ]
  },
  {
   "cell_type": "code",
   "execution_count": null,
   "id": "d9af2902-07c4-492c-b9fe-61e50b9685f0",
   "metadata": {},
   "outputs": [],
   "source": [
    "# Example of creating new collection of only flights from May 2024 - June 2024\n",
    "filtered_flights = flights.filter_by_date(start_date=date(2024, 5, 1), end_date=date(2024, 6, 30))\n",
    "print(filtered_flights)"
   ]
  },
  {
   "cell_type": "markdown",
   "id": "173fad27-f54a-4751-99a3-3cb83e8503c9",
   "metadata": {},
   "source": [
    "A [`FlightCollection`](https://py.d2s.org/flight_collection/) can also be filtered by sensor using the method [`filter_by_sensor`](https://py.d2s.org/flight_collection/#d2spy.models.flight_collection.FlightCollection.filter_by_sensor). This method will return all flights with a sensor that matches the provided search term."
   ]
  },
  {
   "cell_type": "code",
   "execution_count": null,
   "id": "985fb25e-8a5a-4518-8925-e7b1448fa96e",
   "metadata": {},
   "outputs": [],
   "source": [
    "filtered_flights = filtered_flights.filter_by_sensor(\"rgb\")\n",
    "print(filtered_flights)"
   ]
  },
  {
   "cell_type": "markdown",
   "id": "bfb49322-6518-4ee2-9030-d6a1ebe8743b",
   "metadata": {},
   "source": [
    "The Flight [`get_data_products`](https://py.d2s.org/flight/#d2spy.models.flight.Flight.get_data_products) method will retrieve a list of the data products associated with a flight."
   ]
  },
  {
   "cell_type": "code",
   "execution_count": null,
   "id": "def1b690-0015-49bd-b45e-63538b982bb8",
   "metadata": {},
   "outputs": [],
   "source": [
    "# Get list of data products from a flight\n",
    "data_products = flights[0].get_data_products()\n",
    "# Print the url for the first data product (if one exists)\n",
    "print(data_products[0].url)"
   ]
  },
  {
   "cell_type": "markdown",
   "id": "f9127fe7-7b5e-4008-9e9a-045b6d70826c",
   "metadata": {},
   "source": [
    "The `data_products` variable is a [`DataProductCollection`](https://py.d2s.org/data_product_collection/). The collection can be filtered by the data type using the method [`filter_by_data_type`](https://py.d2s.org/data_product_collection/#d2spy.models.data_product_collection.DataProductCollection.filter_by_data_type). This method will return all data products that match the requested data type."
   ]
  },
  {
   "cell_type": "code",
   "execution_count": null,
   "id": "19aa8fc5-c9ff-4c7d-9af7-a49c31cabd65",
   "metadata": {},
   "outputs": [],
   "source": [
    "# Example of creating new collection of data products with the \"ortho\" data type\n",
    "filtered_data_products = data_products.filter_by_data_type(\"ortho\")\n",
    "print(filtered_data_products)"
   ]
  },
  {
   "cell_type": "markdown",
   "id": "ffc647cd-4053-43fb-a154-26e2b8e4d956",
   "metadata": {},
   "source": [
    "We can access the band info for a [`DataProduct`](https://py.d2s.org/data_product/) using the [`get_band_info`](https://py.d2s.org/data_product/#d2spy.models.data_product.DataProduct.get_band_info) method. The [`update_band_info`](https://py.d2s.org/data_product/#d2spy.models.data_product.DataProduct.update_band_info) method can be used to assign a new `description` to one or more bands. Only the band `description` values can be changed. The band `name` values must remain the same.\n",
    "\n",
    "Example band info returned from `get_band_info` for a 4-band orthomosaic:\n",
    "```python\n",
    "[\n",
    "    {'name': 'b1', 'description': 'Red'},\n",
    "    {'name': 'b2', 'description': 'Green'},\n",
    "    {'name': 'b3', 'description': 'Blue'},\n",
    "    {'name': 'b4', 'description': 'Alpha'}\n",
    "]\n",
    "```"
   ]
  },
  {
   "cell_type": "code",
   "execution_count": null,
   "id": "a0a2d80b-0a49-4cbb-9a84-bb0bfcfa09d7",
   "metadata": {},
   "outputs": [],
   "source": [
    "# Print band names and descriptions for a data product\n",
    "band_info = filtered_data_products[0].get_band_info()\n",
    "print(band_info)\n",
    "\n",
    "# Update \"b1\" and \"b3\" band descriptions\n",
    "band_info[0][\"description\"] = \"Blue\"\n",
    "band_info[2][\"description\"] = \"Red\"\n",
    "filtered_data_products[0].update_band_info(band_info)"
   ]
  },
  {
   "cell_type": "markdown",
   "id": "bb9c51f4-d1c9-4bbb-87ed-d2440d42d0be",
   "metadata": {},
   "source": [
    "These are all the methods you need to know for viewing what data your account can access on a D2S instance. Once finished exploring your data, you can revoke your authorization session by logging out."
   ]
  },
  {
   "cell_type": "code",
   "execution_count": null,
   "id": "84f95d9b-8862-432e-8e50-5d5b4fa0174f",
   "metadata": {},
   "outputs": [],
   "source": [
    "# Removes access token from future requests\n",
    "workspace.logout()"
   ]
  }
 ],
 "metadata": {
  "kernelspec": {
   "display_name": "Python 3 (ipykernel)",
   "language": "python",
   "name": "python3"
  },
  "language_info": {
   "codemirror_mode": {
    "name": "ipython",
    "version": 3
   },
   "file_extension": ".py",
   "mimetype": "text/x-python",
   "name": "python",
   "nbconvert_exporter": "python",
   "pygments_lexer": "ipython3",
   "version": "3.11.12"
  }
 },
 "nbformat": 4,
 "nbformat_minor": 5
}
