{
 "cells": [
  {
   "cell_type": "markdown",
   "id": "2e12376a-e8ae-42f3-9e20-3e326a54ab98",
   "metadata": {},
   "source": [
    "[![image](https://colab.research.google.com/assets/colab-badge.svg)](https://colab.research.google.com/github/gdslab/d2spy/blob/main/docs/guides/notebooks/03_adding_multiple_data_products.ipynb)\n",
    "[![Jupyter Notebook](https://img.shields.io/badge/Open%20in%20JuypterHub%20-%20%233776AB?logo=jupyter&logoColor=%23F37626&labelColor=%23F5F5F5)](https://lab.d2s.org/hub/user-redirect/lab/tree/tutorials/03_adding_multiple_data_products.ipynb)"
   ]
  },
  {
   "cell_type": "markdown",
   "id": "529e63d9-4237-494b-8326-7d86eac8a95b",
   "metadata": {},
   "source": [
    "# Adding multiple data products to an existing flight\n",
    "*This guide will walk you through the steps for adding multiple data products, of different data types, to an existing flight.*\n",
    "\n",
    "To get started, you will need to import the `Workspace` modules."
   ]
  },
  {
   "cell_type": "code",
   "execution_count": null,
   "id": "85cec3e0-eb20-4f68-8667-a63f81eac782",
   "metadata": {},
   "outputs": [],
   "source": [
    "# Uncomment and run the following line if working out of Google Colab\n",
    "# !pip install d2spy"
   ]
  },
  {
   "cell_type": "code",
   "execution_count": null,
   "id": "b24a1e76-e75e-44fe-bd9a-0a855e2efb27",
   "metadata": {},
   "outputs": [],
   "source": [
    "from d2spy.workspace import Workspace"
   ]
  },
  {
   "cell_type": "markdown",
   "id": "b3764c61-50c6-4e0c-975e-ce9ad0b73b83",
   "metadata": {},
   "source": [
    "All of your D2S data can be accessed through a D2S \"workspace.\" The [`Workspace`](https://py.d2s.org/workspace/) module's [`connect`](https://py.d2s.org/workspace/#d2spy.workspace.Workspace.connect) method can be used to login to a D2S instance and connect to your workspace in one go. Behind the scenes, the [`Auth`](https://py.d2s.org/auth/) module will be used to handle authenticating with D2S and requesting an authorization token. You will need to provide `connect` with the URL to your D2S instance and enter your password when prompted."
   ]
  },
  {
   "cell_type": "code",
   "execution_count": null,
   "id": "787b1f75-d8ea-4c0e-a810-6631cd8f993c",
   "metadata": {},
   "outputs": [],
   "source": [
    "# Example of connecting to a workspace for a local D2S instance\n",
    "workspace = Workspace.connect(\"http://localhost:8000\", \"yourD2Semail@example.com\")"
   ]
  },
  {
   "cell_type": "markdown",
   "id": "c24b648f-7c9d-48a3-a42d-fd5ac348ba76",
   "metadata": {},
   "source": [
    "The Workspace [`get_project`](https://py.d2s.org/workspace/#d2spy.workspace.Workspace.get_project) method will use a project ID to retrieve a specific project on your D2S instance. Once we have the project, we can use the project's [`get_flight`](https://py.d2s.org/project/#d2spy.models.project.Project.get_flight) method to find a specific flight by its ID.\n",
    "\n",
    "You can find the project ID in the URL of your project page on your D2S instance, or by using the [`get_projects`](https://py.d2s.org/workspace/#d2spy.workspace.Workspace.get_projects) method to retrieve all projects and identifying the project ID from the returned list. Similarly, the flight ID can be found in the URL of your flight's data product page on your D2S instance, or by using the [`get_flights`](https://py.d2s.org/project/#d2spy.models.project.Project.get_flights) method. See the second guide, [Accessing your workspace projects, flights, and data products](https://py.d2s.org/guides/notebooks/02_accessing_your_workspace/), for detailed examples using these methods."
   ]
  },
  {
   "cell_type": "code",
   "execution_count": null,
   "id": "bc4f5235-4dd6-404c-a6e4-77fb7fbe7615",
   "metadata": {},
   "outputs": [],
   "source": [
    "# Find specific project in our workspace\n",
    "project = workspace.get_project(\"a538eb21-cb9a-488b-989c-d82098cd843d\")\n",
    "if not project:\n",
    "    print(\"Unable to find project\")\n",
    "\n",
    "# Find specific flight in our project\n",
    "flight = project.get_flight(\"526e316c-3373-435c-a0f0-3781ced28508\")\n",
    "if not flight:\n",
    "    print(\"Unable to find flight\")"
   ]
  },
  {
   "cell_type": "markdown",
   "id": "d6795b53-0f68-49f5-9db9-48b7fde01a5b",
   "metadata": {},
   "source": [
    "The Flight module's [`add_data_product`](https://py.d2s.org/flight/#d2spy.models.flight.Flight.add_data_product) method will be used to upload multiple data products located on the local machine.\n",
    "\n",
    "**Important**\n",
    "\n",
    "The `data_type` has some limits on what values will be accepted. `data_type` expects the values \"dsm\", \"point_cloud\", or \"ortho\". It can be provided with an alternative value if none of these options are suitable. \n",
    "\n",
    "Refer to the [documentation](https://py.d2s.org/flight/#d2spy.models.flight.Flight.add_data_product) for more details."
   ]
  },
  {
   "cell_type": "code",
   "execution_count": null,
   "id": "1a90ce14-41b9-400a-bd6b-a39c946af90c",
   "metadata": {},
   "outputs": [],
   "source": [
    "# List of local data products that will be uploaded\n",
    "data_products_to_upload = [\n",
    "    {\"filepath\": \"/full/path/to/my/ortho_data_product.tif\", \"data_type\": \"ortho\"},\n",
    "    {\"filepath\": \"/full/path/to/my/dsm_data_product.tif\", \"data_type\": \"dsm\"},\n",
    "    {\"filepath\": \"/full/path/to/my/point_cloud_data_product.tif\", \"data_type\": \"point_cloud\"}\n",
    "]\n",
    "\n",
    "# Upload each data product to D2S instance\n",
    "for data_product in data_products_to_upload:\n",
    "    flight.add_data_product(\n",
    "        filepath=data_product[\"filepath\"],\n",
    "        data_type=data_product[\"data_type\"]\n",
    "    )"
   ]
  },
  {
   "cell_type": "markdown",
   "id": "19482e2b-8c8d-4633-99be-dfb6c6e4d569",
   "metadata": {},
   "source": [
    "When D2S has finished processing the upload the Flight module's [`get_data_products`](https://py.d2s.org/flight/#d2spy.models.flight.Flight.get_data_products) method can be used to find the uploaded data products' static URLs."
   ]
  },
  {
   "cell_type": "code",
   "execution_count": null,
   "id": "5b368989-c85b-498f-937b-cf0ec67685b8",
   "metadata": {},
   "outputs": [],
   "source": [
    "data_products = flight.get_data_products()\n",
    "\n",
    "# If an uploaded data product is missing from the output it may need more time to process on D2S\n",
    "for data_product in data_products:\n",
    "    print(data_product.url)"
   ]
  },
  {
   "cell_type": "markdown",
   "id": "bbbff7eb-2a5b-42fb-86ec-939d9b92b244",
   "metadata": {},
   "source": [
    "These are all the methods you need to know for viewing what data your account can access on a D2S instance. Once finished exploring your data, you can revoke your authorization session by logging out."
   ]
  },
  {
   "cell_type": "code",
   "execution_count": null,
   "id": "091711e8-9fd5-4aad-81c1-451eae0141c7",
   "metadata": {},
   "outputs": [],
   "source": [
    "# Removes access token from future requests\n",
    "workspace.logout()"
   ]
  }
 ],
 "metadata": {
  "kernelspec": {
   "display_name": "Python 3 (ipykernel)",
   "language": "python",
   "name": "python3"
  },
  "language_info": {
   "codemirror_mode": {
    "name": "ipython",
    "version": 3
   },
   "file_extension": ".py",
   "mimetype": "text/x-python",
   "name": "python",
   "nbconvert_exporter": "python",
   "pygments_lexer": "ipython3",
   "version": "3.11.12"
  }
 },
 "nbformat": 4,
 "nbformat_minor": 5
}
