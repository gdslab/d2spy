{
 "cells": [
  {
   "cell_type": "markdown",
   "id": "2e12376a-e8ae-42f3-9e20-3e326a54ab98",
   "metadata": {},
   "source": [
    "[![image](https://colab.research.google.com/assets/colab-badge.svg)](https://colab.research.google.com/github/gdslab/d2spy/blob/main/docs/guides/notebooks/04_visualizing_data_products_with_leafmap.ipynb)\n",
    "[![Jupyter Notebook](https://img.shields.io/badge/Open%20in%20JuypterHub%20-%20%233776AB?logo=jupyter&logoColor=%23F37626&labelColor=%23F5F5F5)](https://lab.d2s.org/hub/user-redirect/lab/tree/tutorials/04_visualizing_data_products_with_leafmap.ipynb)"
   ]
  },
  {
   "cell_type": "markdown",
   "id": "529e63d9-4237-494b-8326-7d86eac8a95b",
   "metadata": {},
   "source": [
    "# Visualizing data products with leafmap\n",
    "*This guide will walk you through the steps for visualizing a D2S hosted data product with [leafmap](https://github.com/opengeos/leafmap).*\n",
    "\n",
    "To get started, you will need to have the URL for one of your D2S data products and the open-source library [leafmap](https://github.com/opengeos/leafmap) added to your Python environment."
   ]
  },
  {
   "cell_type": "code",
   "execution_count": null,
   "id": "85cec3e0-eb20-4f68-8667-a63f81eac782",
   "metadata": {},
   "outputs": [],
   "source": [
    "# Uncomment and run the following line if working out of Google Colab\n",
    "# !pip install d2spy\n",
    "# !pip install leafmap"
   ]
  },
  {
   "cell_type": "code",
   "execution_count": null,
   "id": "b24a1e76-e75e-44fe-bd9a-0a855e2efb27",
   "metadata": {},
   "outputs": [],
   "source": [
    "import os\n",
    "\n",
    "import leafmap\n",
    "\n",
    "from d2spy.workspace import Workspace"
   ]
  },
  {
   "cell_type": "markdown",
   "id": "b3764c61-50c6-4e0c-975e-ce9ad0b73b83",
   "metadata": {},
   "source": [
    "You must connect to your D2S workspace before you can request any data. The [`Workspace`](https://py.d2s.org/workspace/) module's [`connect`](https://py.d2s.org/workspace/#d2spy.workspace.Workspace.connect) method can be used to login to a D2S instance and connect to your workspace in one go.\n",
    "\n",
    "*Note: This tutorial uses a D2S instance hosted at https://ps2.d2s.org. You will need to have an account and access to data on this instance to use it. Change the URL if you are self-hosting an instance or using an instance hosted elsewhere.*"
   ]
  },
  {
   "cell_type": "code",
   "execution_count": null,
   "id": "72494a5f-c6ce-42ba-96ad-896ba02579bd",
   "metadata": {},
   "outputs": [],
   "source": [
    "# Connect to D2S workspace\n",
    "workspace = Workspace.connect(\"https://ps2.d2s.org\", \"yourD2Semail@example.com\")"
   ]
  },
  {
   "cell_type": "markdown",
   "id": "c24b648f-7c9d-48a3-a42d-fd5ac348ba76",
   "metadata": {},
   "source": [
    "An **API key** will need to be used to view *private* D2S hosted data products. Data products toggled to public on D2S do not require an API key. \n",
    "\n",
    "Your API key will be accessible from the workspace `api_key` property. \n",
    "\n",
    "**Important**\n",
    "\n",
    "You will not have an active API key by default. You must request one from the D2S profile page. As an example, here is the profile page URL for a local development server: http://localhost:8000/auth/profile"
   ]
  },
  {
   "cell_type": "code",
   "execution_count": null,
   "id": "bc4f5235-4dd6-404c-a6e4-77fb7fbe7615",
   "metadata": {},
   "outputs": [],
   "source": [
    "# Check for API key\n",
    "api_key = workspace.api_key\n",
    "if not api_key:\n",
    "    print(\"No API key. Please request one from the D2S profile page and re-run this cell.\")"
   ]
  },
  {
   "cell_type": "markdown",
   "id": "e38dd268-2cdc-40fb-804a-f38c9cca1be8",
   "metadata": {},
   "source": [
    "Leafmap uses [TiTiler](https://developmentseed.org/titiler/), a dynamic tile server, for streaming map tiles to its interactive map. On this next line, we will set up an environment variable that points to the demo TiTiler service."
   ]
  },
  {
   "cell_type": "code",
   "execution_count": null,
   "id": "551bddc3-22c3-40e7-adb3-45279b6921a0",
   "metadata": {},
   "outputs": [],
   "source": [
    "os.environ[\"TITILER_ENDPOINT\"] = \"https://tt.d2s.org\""
   ]
  },
  {
   "cell_type": "markdown",
   "id": "aa1f7403-05e4-406b-86ed-74f567d8a871",
   "metadata": {},
   "source": [
    "Next, we will create a default leafmap Map and provide the URL for our D2S hosted data product. \n",
    "\n",
    "D2S automatically converts uploaded GeoTIFF data products to the Cloud Optimized GeoTIFF (COG) format. This format is what makes it possible to stream the data product from D2S to TiTiler which in turn serves the tiles rendered on our map. "
   ]
  },
  {
   "cell_type": "code",
   "execution_count": null,
   "id": "3bb2f6a0-e47d-4031-b707-03f029d9768a",
   "metadata": {},
   "outputs": [],
   "source": [
    "# Interactive leafmap Map\n",
    "m = leafmap.Map()\n",
    "\n",
    "# URL for a D2S hosted GeoTIFF data product\n",
    "ortho_url = \"https://ps2.d2s.org/static/projects/afc5005d-4977-4bdd-a53a-96a3f051d312/flights/32607eae-0cd9-4c06-b4d1-a4837d237ce1/data_products/0e4c3bc2-00da-41b3-bf79-d1d1f83e4194/bb62658b-a250-46e2-8e93-081828880634.tif\"\n",
    "\n",
    "# Add a publicly available data product to the map\n",
    "m.add_cog_layer(ortho_url, name=\"Orthomosaic\")\n",
    "\n",
    "# If you want to display a private data product, comment out the previously line and uncomment the below m.add_cog_layer line\n",
    "# Add a private data product to the map\n",
    "# m.add_cog_layer(f\"{ortho_url}?API_KEY={api_key}\", name=\"DSM\", colormap_name=\"rainbow\")\n",
    "\n",
    "# Display the map\n",
    "m"
   ]
  },
  {
   "cell_type": "markdown",
   "id": "bbbff7eb-2a5b-42fb-86ec-939d9b92b244",
   "metadata": {},
   "source": [
    "Once finished viewing your data, you can revoke your authorization session by logging out."
   ]
  },
  {
   "cell_type": "code",
   "execution_count": null,
   "id": "091711e8-9fd5-4aad-81c1-451eae0141c7",
   "metadata": {},
   "outputs": [],
   "source": [
    "# Removes access token from future requests\n",
    "workspace.logout()"
   ]
  }
 ],
 "metadata": {
  "kernelspec": {
   "display_name": "Python 3 (ipykernel)",
   "language": "python",
   "name": "python3"
  },
  "language_info": {
   "codemirror_mode": {
    "name": "ipython",
    "version": 3
   },
   "file_extension": ".py",
   "mimetype": "text/x-python",
   "name": "python",
   "nbconvert_exporter": "python",
   "pygments_lexer": "ipython3",
   "version": "3.11.12"
  }
 },
 "nbformat": 4,
 "nbformat_minor": 5
}
