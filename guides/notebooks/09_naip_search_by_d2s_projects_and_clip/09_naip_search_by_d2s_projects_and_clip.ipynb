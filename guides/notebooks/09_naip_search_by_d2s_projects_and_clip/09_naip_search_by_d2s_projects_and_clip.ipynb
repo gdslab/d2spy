{
 "cells": [
  {
   "cell_type": "markdown",
   "id": "d93612b2-aef9-4ac5-92b5-b8491e6d9fc4",
   "metadata": {},
   "source": [
    "[![image](https://colab.research.google.com/assets/colab-badge.svg)](https://colab.research.google.com/github/gdslab/d2spy/blob/main/docs/guides/notebooks/09_naip_search_and_clip_by_d2s_project.ipynb)\n",
    "[![Jupyter Notebook](https://img.shields.io/badge/Open%20in%20JuypterHub%20-%20%233776AB?logo=jupyter&logoColor=%23F37626&labelColor=%23F5F5F5)](https://lab.d2s.org/hub/user-redirect/lab/tree/tutorials/09_naip_search_by_d2s_projects_and_clip.ipynb)"
   ]
  },
  {
   "cell_type": "markdown",
   "id": "09e8cc9a-a8ca-44cd-8acc-a83dbf925db4",
   "metadata": {},
   "source": [
    "# NAIP search by D2S projects and clip\n",
    "*This guide will walk you through the steps to search a STAC Catalog using the STAC API to find NAIP items within a D2S project and clip an item by your D2S project boundary.*\n",
    "\n",
    "To get started, you'll need access to a D2S instance with existing projects. In addition to [`d2spy`](https://py.d2s.org), this guide will use Python packages [`leafmap`](https://leafmap.org/), [`numpy`](https://numpy.org/install/), and [`pystac_client`](https://pystac-client.readthedocs.io/en/stable/)."
   ]
  },
  {
   "cell_type": "code",
   "execution_count": null,
   "id": "926fec75-861e-4e42-b798-bff43828a8d2",
   "metadata": {},
   "outputs": [],
   "source": [
    "# Uncomment and run the following line if working out of Google Colab\n",
    "# !pip install numpy\n",
    "# !pip install pystac_client\n",
    "# !pip install d2spy"
   ]
  },
  {
   "cell_type": "code",
   "execution_count": null,
   "id": "8b331253-6176-4434-9973-1293af19fe19",
   "metadata": {},
   "outputs": [],
   "source": [
    "import leafmap\n",
    "import numpy as np\n",
    "from pystac_client import Client\n",
    "\n",
    "from d2spy.extras.utils import clip_by_mask\n",
    "from d2spy.workspace import Workspace"
   ]
  },
  {
   "cell_type": "markdown",
   "id": "6cee7fd7-6572-41c4-a49b-9de9b7a07331",
   "metadata": {},
   "source": [
    "You must connect to your D2S workspace before you can request any data. The [`Workspace`](https://py.d2s.org/workspace/) module's [`connect`](https://py.d2s.org/workspace/#d2spy.workspace.Workspace.connect) method can be used to login to a D2S instance and connect to your workspace in one go.\n",
    "\n",
    "*Note: This tutorial uses a D2S instance hosted at https://ps2.d2s.org. You will need to have an account and access to data on this instance to use it. Change the URL if you are self-hosting an instance or using an instance hosted elsewhere.*"
   ]
  },
  {
   "cell_type": "code",
   "execution_count": null,
   "id": "9c4ba2fc-84ba-4e75-ae51-a1e77e6960be",
   "metadata": {},
   "outputs": [],
   "source": [
    "# Connect to D2S workspace\n",
    "workspace = Workspace.connect(\"https://ps2.d2s.org\", \"yourD2Semail@example.com\")"
   ]
  },
  {
   "cell_type": "markdown",
   "id": "2a7cd7ab-c966-49e6-9962-e6b05ba7ffd2",
   "metadata": {},
   "source": [
    "Locate the project you're interested in for NAIP data."
   ]
  },
  {
   "cell_type": "code",
   "execution_count": null,
   "id": "c83d89b2-602d-4fc0-8ec1-aae953e62db8",
   "metadata": {},
   "outputs": [],
   "source": [
    "# Change the search term in `.filter_by_title` to match your project\n",
    "project = workspace.get_projects().filter_by_title(\"INDOT\")[0]\n",
    "project_boundary = project.get_project_boundary()"
   ]
  },
  {
   "cell_type": "markdown",
   "id": "2257d7e3-5fa4-433f-a788-07d7c6f0a572",
   "metadata": {},
   "source": [
    "In an upcoming step, you will perform a spatial query using STAC API to find NAIP items located within your project. This query will require providing STAC API with a bounding box, `[xmin, ymin, xmax, ymax]` for the project."
   ]
  },
  {
   "cell_type": "code",
   "execution_count": null,
   "id": "549fc66b-8e62-4215-b20a-035a03da79fd",
   "metadata": {},
   "outputs": [],
   "source": [
    "# Load project boundary coordinates as numpy array\n",
    "boundary_arr = np.array(project_boundary[\"geometry\"][\"coordinates\"][0])\n",
    "# Create a bounding box for the project\n",
    "bounding_box = [\n",
    "    boundary_arr[:, 0].min(),\n",
    "    boundary_arr[:, 1].min(),\n",
    "    boundary_arr[:, 0].max(),\n",
    "    boundary_arr[:, 1].max()\n",
    "]"
   ]
  },
  {
   "cell_type": "markdown",
   "id": "eddd96c3-6b07-4495-ac7c-cc25df6ee53b",
   "metadata": {},
   "source": [
    "D2S provides a STAC API that hosts a NAIP collection for you to search. The API is accessible at https://stac-api.d2s.org. For a more user-friendly interface to browse the data exposed by the API, visit https://stac.d2s.org. In the following cells, you'll connect to the STAC API using pystac_client and search the NAIP collection using your bounding box."
   ]
  },
  {
   "cell_type": "code",
   "execution_count": null,
   "id": "91c9c591-bc56-47e0-b816-c6c8e06df555",
   "metadata": {},
   "outputs": [],
   "source": [
    "# Connect to STAC API\n",
    "client = Client.open(\"https://stac-api.d2s.org\")"
   ]
  },
  {
   "cell_type": "code",
   "execution_count": null,
   "id": "3861f8b1-d037-4c5c-9d22-e33dafda9de4",
   "metadata": {},
   "outputs": [],
   "source": [
    "# Search for items from 2020 in the NAIP collection\n",
    "search = client.search(\n",
    "    max_items=10,\n",
    "    collections=[\"naip\"],\n",
    "    bbox=bounding_box,\n",
    "    datetime=['2020-01-01', '2020-12-31'],\n",
    ")"
   ]
  },
  {
   "cell_type": "code",
   "execution_count": null,
   "id": "7a99ad9f-8616-4cc2-99c1-8690c7d613b4",
   "metadata": {},
   "outputs": [],
   "source": [
    "# Print STAC Item ID and STAC Browser URL for search results\n",
    "stac_browser_base_item_url = \"https://stac.d2s.org/collections/naip/items\"\n",
    "items = []\n",
    "for item in search.items():\n",
    "    print(f\"ID: {item.id}, URL: {stac_browser_base_item_url}/{item.id}\")\n",
    "    items.append(item)\n",
    "\n",
    "# A single item is returned by this example query\n",
    "item = items[0]"
   ]
  },
  {
   "cell_type": "markdown",
   "id": "e9908f17-2a29-4cdd-970a-b85a825b1c0e",
   "metadata": {},
   "source": [
    "## Clip NAIP Raster and Save Locally\n",
    "First you need to find the asset within the STAC Item that represents the NAIP image/raster."
   ]
  },
  {
   "cell_type": "code",
   "execution_count": null,
   "id": "f71410f9-d368-4785-b9e8-5b54ea95aed4",
   "metadata": {},
   "outputs": [],
   "source": [
    "# Print name of assets available in the STAC Item\n",
    "for asset in item.assets:\n",
    "    print(asset)"
   ]
  },
  {
   "cell_type": "code",
   "execution_count": null,
   "id": "6e413097-3594-476b-9f48-5c6ccc0072cc",
   "metadata": {},
   "outputs": [],
   "source": [
    "# The URL for the NAIP raster is in the \"image\" asset\n",
    "naip_url = item.assets[\"image\"].href\n",
    "print(naip_url)"
   ]
  },
  {
   "cell_type": "markdown",
   "id": "30b3db3a-cb26-4c61-94e5-368f4c878e4a",
   "metadata": {},
   "source": [
    "The NAIP raster is a Cloud Optimized GeoTIFF, allowing us to stream the dataset directly, rather than downloading it in full before clipping it."
   ]
  },
  {
   "cell_type": "code",
   "execution_count": null,
   "id": "0119e943-5468-44f1-b3ef-7b1a4a230e99",
   "metadata": {},
   "outputs": [],
   "source": [
    "# Desired location and name for clipped raster\n",
    "out_filename = \"/tmp/clipped_naip.tif\"\n",
    "\n",
    "# Clip the raster\n",
    "clip_by_mask(in_raster=naip_url, geojson=project_boundary, out_raster=out_filename)"
   ]
  },
  {
   "cell_type": "markdown",
   "id": "cdb1628d-a94b-4a64-adaf-982943d04954",
   "metadata": {},
   "source": [
    "The results can be visualized with leafmap."
   ]
  },
  {
   "cell_type": "code",
   "execution_count": null,
   "id": "5b9121df-3f23-4d08-8029-678f3ce3067c",
   "metadata": {},
   "outputs": [],
   "source": [
    "m = leafmap.Map()\n",
    "m.add_raster(out_filename)\n",
    "m.add_geojson(project_boundary, style={\"color\": \"black\", \"weight\": 3, \"fill\": False})\n",
    "m"
   ]
  },
  {
   "cell_type": "markdown",
   "id": "5cb78de7-3629-4a8a-a956-8ec2df3a0808",
   "metadata": {},
   "source": [
    "Once finished viewing your data, you can revoke your authorization session by logging out."
   ]
  },
  {
   "cell_type": "code",
   "execution_count": null,
   "id": "3eac6bc0-0aae-4e8d-a65d-f2372a2b5ac8",
   "metadata": {},
   "outputs": [],
   "source": [
    "workspace.logout()"
   ]
  }
 ],
 "metadata": {
  "kernelspec": {
   "display_name": "Python 3 (ipykernel)",
   "language": "python",
   "name": "python3"
  },
  "language_info": {
   "codemirror_mode": {
    "name": "ipython",
    "version": 3
   },
   "file_extension": ".py",
   "mimetype": "text/x-python",
   "name": "python",
   "nbconvert_exporter": "python",
   "pygments_lexer": "ipython3",
   "version": "3.11.12"
  }
 },
 "nbformat": 4,
 "nbformat_minor": 5
}
