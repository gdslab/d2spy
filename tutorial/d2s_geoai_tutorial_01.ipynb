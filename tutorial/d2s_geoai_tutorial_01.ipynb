{
 "cells": [
  {
   "cell_type": "markdown",
   "metadata": {},
   "source": [
    "[![image](https://colab.research.google.com/assets/colab-badge.svg)](https://colab.research.google.com/github/gdslab/d2spy/blob/master/tutorial/d2s_geoai_tutorial_01.ipynb)\n",
    "[![Jupyter Notebook](https://img.shields.io/badge/Open%20in%20JuypterHub%20-%20%233776AB?logo=jupyter&logoColor=%23F37626&labelColor=%23F5F5F5)](https://lab.d2s.org)\n",
    "[![License: MIT](https://img.shields.io/badge/License-MIT-yellow.svg)](https://opensource.org/licenses/MIT)\n",
    "\n",
    "\n",
    "# Visualizing building footprint and aerial imageries\n",
    "\n",
    "This tutorial will demonstrate how to download building footprints from Overture and display them over various aerial imageries such as NAIP, Indiana Orthomosaic images, and Indiana LiDAR data.\n",
    "\n",
    "This tutorial requires following modules to be installed.\n",
    "\n",
    "* d2spy: https://py.d2s.org/\n",
    "* geoai: https://geoai.gishub.org/\n",
    "* leafmap: https://leafmap.org/"
   ]
  },
  {
   "cell_type": "markdown",
   "metadata": {},
   "source": [
    "## Import Modules\n",
    "\n",
    "Importing required modules. "
   ]
  },
  {
   "cell_type": "code",
   "execution_count": 1,
   "metadata": {},
   "outputs": [],
   "source": [
    "import leafmap\n",
    "import d2spy\n",
    "from pystac_client import Client\n",
    "from d2spy.extras.utils import clip_by_mask\n",
    "from d2spy.workspace import Workspace\n",
    "from geoai.download import (\n",
    "    download_naip,\n",
    "    download_overture_buildings,\n",
    "    extract_building_stats,\n",
    ")"
   ]
  },
  {
   "cell_type": "code",
   "execution_count": 2,
   "metadata": {},
   "outputs": [],
   "source": [
    "def bbox_to_geojson(bbox):\n",
    "    \"\"\"\n",
    "    Convert a bounding box to a GeoJSON Polygon feature.\n",
    "    \n",
    "    Parameters:\n",
    "        bbox is a list with the following order.\n",
    "        min_x (float): Minimum longitude (x coordinate).\n",
    "        min_y (float): Minimum latitude (y coordinate).\n",
    "        max_x (float): Maximum longitude (x coordinate).\n",
    "        max_y (float): Maximum latitude (y coordinate).\n",
    "    \n",
    "    Returns:\n",
    "        dict: A GeoJSON feature representing the bounding box.\n",
    "    \"\"\"\n",
    "    # Create the list of coordinates for the polygon.\n",
    "    # GeoJSON polygons require the first and last coordinates to be identical.\n",
    "    min_x = bbox[0]\n",
    "    min_y = bbox[1]\n",
    "    max_x = bbox[2]\n",
    "    max_y = bbox[3]\n",
    "    \n",
    "    coordinates = [\n",
    "        [min_x, min_y],\n",
    "        [max_x, min_y],\n",
    "        [max_x, max_y],\n",
    "        [min_x, max_y],\n",
    "        [min_x, min_y]\n",
    "    ]\n",
    "    \n",
    "    # Build the GeoJSON object (as a Feature)\n",
    "    geojson_feature = {\n",
    "        \"type\": \"Feature\",\n",
    "        \"geometry\": {\n",
    "            \"type\": \"Polygon\",\n",
    "            \"coordinates\": [coordinates]\n",
    "        },\n",
    "        \"properties\": {}\n",
    "    }\n",
    "    \n",
    "    return geojson_feature"
   ]
  },
  {
   "cell_type": "markdown",
   "metadata": {},
   "source": [
    "## Define bounding box\n",
    "\n",
    "We will use leafmap to define a geographic extent (longitude and latitude) of our area of interests."
   ]
  },
  {
   "cell_type": "code",
   "execution_count": 3,
   "metadata": {},
   "outputs": [
    {
     "data": {
      "application/vnd.jupyter.widget-view+json": {
       "model_id": "db6180fd2d9240e38309d1648d70c84e",
       "version_major": 2,
       "version_minor": 0
      },
      "text/plain": [
       "Map(center=[40.4259, -86.9081], controls=(ZoomControl(options=['position', 'zoom_in_text', 'zoom_in_title', 'z…"
      ]
     },
     "execution_count": 3,
     "metadata": {},
     "output_type": "execute_result"
    }
   ],
   "source": [
    "m = leafmap.Map(center=[40.4259, -86.9081], zoom=16)\n",
    "m.add_basemap(\"Google Satellite\")\n",
    "m"
   ]
  },
  {
   "cell_type": "markdown",
   "metadata": {},
   "source": [
    "Use the drawing tool, you can draw a rectangle on the map. If no rectangle is drawn, the default ROI will be used. "
   ]
  },
  {
   "cell_type": "code",
   "execution_count": 4,
   "metadata": {},
   "outputs": [],
   "source": [
    "bbox = m.user_roi_bounds()\n",
    "if bbox is None:\n",
    "    bbox = (-86.9193, 40.4241, -86.9102, 40.4314)"
   ]
  },
  {
   "cell_type": "markdown",
   "metadata": {},
   "source": [
    "## Query Indiana Ortho Imagery\n",
    "\n",
    "We will use D2S (Data to Science) STAC to find available orthomosaic images around the AOI (Area of Interests) we defined above."
   ]
  },
  {
   "cell_type": "code",
   "execution_count": 5,
   "metadata": {},
   "outputs": [
    {
     "name": "stdout",
     "output_type": "stream",
     "text": [
      "ID: in_m_4008633_se_16_060_20200611, URL: https://stac.d2s.org/collections/naip/items/in_m_4008633_se_16_060_20200611\n",
      "ID: in_m_4008633_se_16_060_20180713_20181211, URL: https://stac.d2s.org/collections/naip/items/in_m_4008633_se_16_060_20180713_20181211\n",
      "ID: in_m_4008633_se_16_h_20160903, URL: https://stac.d2s.org/collections/naip/items/in_m_4008633_se_16_h_20160903\n",
      "ID: in_m_4008633_se_16_1_20141008_20141201, URL: https://stac.d2s.org/collections/naip/items/in_m_4008633_se_16_1_20141008_20141201\n",
      "ID: in_m_4008633_se_16_1_20120610_20120821, URL: https://stac.d2s.org/collections/naip/items/in_m_4008633_se_16_1_20120610_20120821\n"
     ]
    }
   ],
   "source": [
    "# Connect to STAC API\n",
    "client = Client.open(\"https://stac-api.d2s.org\")\n",
    "\n",
    "# Search for items from the NAIP collection\n",
    "search = client.search(\n",
    "    max_items=10,\n",
    "    collections=[\"naip\"],\n",
    "    bbox=bbox,\n",
    "    datetime=['2011-01-01', '2020-12-31'],\n",
    ")\n",
    "\n",
    "# Print STAC Item ID and STAC Browser URL for search results\n",
    "stac_browser_base_item_url = \"https://stac.d2s.org/collections/naip/items\"\n",
    "items = []\n",
    "for item in search.items():\n",
    "    print(f\"ID: {item.id}, URL: {stac_browser_base_item_url}/{item.id}\")\n",
    "    items.append(item)"
   ]
  },
  {
   "cell_type": "markdown",
   "metadata": {},
   "source": [
    "Check how many NAIP images are available."
   ]
  },
  {
   "cell_type": "code",
   "execution_count": 6,
   "metadata": {},
   "outputs": [
    {
     "name": "stdout",
     "output_type": "stream",
     "text": [
      "We found 5 NAIP images over your AOI (-86.9193, 40.4241, -86.9102, 40.4314).\n"
     ]
    }
   ],
   "source": [
    "print(f\"We found {len(items)} NAIP images over your AOI {bbox}.\")"
   ]
  },
  {
   "cell_type": "markdown",
   "metadata": {},
   "source": [
    "Now let's choose the first NAIP image and clip it using the bounding box we created earlier to save it on your local machine."
   ]
  },
  {
   "cell_type": "code",
   "execution_count": 7,
   "metadata": {},
   "outputs": [
    {
     "name": "stdout",
     "output_type": "stream",
     "text": [
      "image\n",
      "tilejson\n",
      "thumbnail\n",
      "rendered_preview\n",
      "https://naipeuwest.blob.core.windows.net/naip/v002/in/2020/in_060cm_2020/40086/m_4008633_se_16_060_20200611.tif\n"
     ]
    }
   ],
   "source": [
    "# Choose the first item\n",
    "item = items[0]\n",
    "\n",
    "# Print the name of the asset available in the STAC item\n",
    "for asset in item.assets:\n",
    "    print(asset)\n",
    "\n",
    "#The URL for the NAIP raster is in the \"image\" asset\n",
    "naip_url = item.assets[\"image\"].href\n",
    "print(naip_url)"
   ]
  },
  {
   "cell_type": "markdown",
   "metadata": {},
   "source": [
    "The NAIP raster is a Cloud Optimized GeoTIFF, allowing us to stream the dataset directly, rather than downloading it in full before clipping it."
   ]
  },
  {
   "cell_type": "code",
   "execution_count": 8,
   "metadata": {},
   "outputs": [],
   "source": [
    "# Desired location and file name for the clipped raster\n",
    "clipped_naip_fn = 'naip_data/clipped_naip.tif'\n",
    "\n",
    "# Need to turn the bbox into GeoJSON object\n",
    "bbox_geojson = bbox_to_geojson(bbox)\n",
    "\n",
    "# Now let's clip it\n",
    "clip_by_mask(in_raster=naip_url, geojson=bbox_geojson, out_raster=clipped_naip_fn)"
   ]
  },
  {
   "cell_type": "markdown",
   "metadata": {},
   "source": [
    "Now we can visualize the clipped NAIP image."
   ]
  },
  {
   "cell_type": "code",
   "execution_count": 10,
   "metadata": {},
   "outputs": [
    {
     "data": {
      "application/vnd.jupyter.widget-view+json": {
       "model_id": "7eaa6f02acde42de939cde3561816726",
       "version_major": 2,
       "version_minor": 0
      },
      "text/plain": [
       "Map(center=[40.4277505, -86.9147495], controls=(ZoomControl(options=['position', 'zoom_in_text', 'zoom_in_titl…"
      ]
     },
     "execution_count": 10,
     "metadata": {},
     "output_type": "execute_result"
    }
   ],
   "source": [
    "m = leafmap.Map()\n",
    "m.add_raster(clipped_naip_fn, layer_name=\"NAIP 2020\")\n",
    "m"
   ]
  },
  {
   "cell_type": "markdown",
   "metadata": {},
   "source": [
    "## Download Building Data\n",
    "\n",
    "Retrieve building footprint data in GeoJSON format within the bounding box. The `verbose` flag provids detailed output."
   ]
  },
  {
   "cell_type": "code",
   "execution_count": 12,
   "metadata": {},
   "outputs": [
    {
     "name": "stderr",
     "output_type": "stream",
     "text": [
      "2025-03-09 10:03:54,275 - INFO - Running command: overturemaps download --bbox -86.9193,40.4241,-86.9102,40.4314 -f geojson --type building --output buildings.geojson\n",
      "2025-03-09 10:03:54,277 - INFO - Downloading building data for area: -86.9193,40.4241,-86.9102,40.4314\n",
      "2025-03-09 10:04:41,826 - INFO - Successfully downloaded data to buildings.geojson (0.13 MB)\n",
      "2025-03-09 10:04:41,855 - INFO - Downloaded 148 features\n",
      "2025-03-09 10:04:41,855 - INFO - Available attributes: id, version, sources, level, subtype, class, height, names, has_parts, is_underground...\n"
     ]
    }
   ],
   "source": [
    "# Download buildings\n",
    "buildings_geojson = download_overture_buildings(\n",
    "    bbox=bbox,\n",
    "    output_file=\"buildings.geojson\",\n",
    "    output_format=\"geojson\",\n",
    "    data_type=\"building\",\n",
    "    verbose=True,\n",
    ")"
   ]
  },
  {
   "cell_type": "markdown",
   "metadata": {},
   "source": [
    "If the building data file is successfully downloaded, extract and display relevant statstics such as area, count, and footprint details."
   ]
  },
  {
   "cell_type": "code",
   "execution_count": 13,
   "metadata": {},
   "outputs": [
    {
     "name": "stdout",
     "output_type": "stream",
     "text": [
      "{'total_buildings': 148, 'has_height': 125, 'has_name': 0, 'bbox': [-86.9200103, 40.4240726, -86.9093137, 40.4312994]}\n"
     ]
    }
   ],
   "source": [
    "if buildings_geojson:\n",
    "    stats = extract_building_stats(buildings_geojson)\n",
    "    print(stats)"
   ]
  },
  {
   "cell_type": "markdown",
   "metadata": {},
   "source": [
    "Now you can visualize the downloaded NAIP and building footprint together."
   ]
  },
  {
   "cell_type": "code",
   "execution_count": 14,
   "metadata": {},
   "outputs": [
    {
     "data": {
      "application/vnd.jupyter.widget-view+json": {
       "model_id": "e43a388af4a348e1bdab407b0fb8c59e",
       "version_major": 2,
       "version_minor": 0
      },
      "text/plain": [
       "Map(center=[40.4277505, -86.9147495], controls=(ZoomControl(options=['position', 'zoom_in_text', 'zoom_in_titl…"
      ]
     },
     "execution_count": 14,
     "metadata": {},
     "output_type": "execute_result"
    }
   ],
   "source": [
    "m = leafmap.Map()\n",
    "m.add_raster(clipped_naip_fn, layer_name=\"NAIP 2020\")\n",
    "m.add_geojson(buildings_geojson, layer_name=\"Buildings\")\n",
    "m"
   ]
  },
  {
   "cell_type": "markdown",
   "metadata": {},
   "source": [
    "## Misalignment between building footprints and NAIP imageries\n",
    "\n",
    "We can clearly see the misalignment between building footprints and NAIP imageries. There could be many reasons why this could happen, but let's see if this issue is resolved when we use more accurate basemap layers. We will use Indiana Ortho Imageries as a basemap layer to check this."
   ]
  },
  {
   "cell_type": "code",
   "execution_count": 15,
   "metadata": {},
   "outputs": [
    {
     "name": "stdout",
     "output_type": "stream",
     "text": [
      "ID: tippecanoe-2023-ortho, URL: https://stac.d2s.org/collections/naip/items/tippecanoe-2023-ortho\n",
      "ID: tippecanoe-2018-ortho, URL: https://stac.d2s.org/collections/naip/items/tippecanoe-2018-ortho\n",
      "ID: flood-imagery-2016-ortho, URL: https://stac.d2s.org/collections/naip/items/flood-imagery-2016-ortho\n",
      "ID: tippecanoe-2013-ortho, URL: https://stac.d2s.org/collections/naip/items/tippecanoe-2013-ortho\n",
      "ID: purdue-2013-ortho, URL: https://stac.d2s.org/collections/naip/items/purdue-2013-ortho\n"
     ]
    }
   ],
   "source": [
    "# Search for items from the Indiana Ortho Imagery Collection\n",
    "search = client.search(\n",
    "    max_items=10,\n",
    "    collections=[\"ortho\"],\n",
    "    bbox=bbox,\n",
    "    datetime=['2011-01-01', '2024-12-31'],\n",
    ")\n",
    "\n",
    "# Print STAC Item ID and STAC Browser URL for search results\n",
    "stac_browser_base_item_url = \"https://stac.d2s.org/collections/naip/items\"\n",
    "items = []\n",
    "for item in search.items():\n",
    "    print(f\"ID: {item.id}, URL: {stac_browser_base_item_url}/{item.id}\")\n",
    "    items.append(item)"
   ]
  },
  {
   "cell_type": "markdown",
   "metadata": {},
   "source": [
    "You can see from the results above that there are 5 orthomosaic images are available. We will use the latest one."
   ]
  },
  {
   "cell_type": "code",
   "execution_count": 16,
   "metadata": {},
   "outputs": [
    {
     "name": "stdout",
     "output_type": "stream",
     "text": [
      "ortho-image\n",
      "https://lidar.digitalforestry.org/state/2023/tippecanoe/tippecanoe_2023_ortho.tif\n"
     ]
    }
   ],
   "source": [
    "# Choose the first item\n",
    "item = items[0]\n",
    "\n",
    "# Print the name of the asset available in the STAC item\n",
    "for asset in item.assets:\n",
    "    print(asset)\n",
    "\n",
    "#The URL for the NAIP raster is in the \"image\" asset\n",
    "ortho_url = item.assets[\"ortho-image\"].href\n",
    "print(ortho_url)"
   ]
  },
  {
   "cell_type": "markdown",
   "metadata": {},
   "source": [
    "Now, let's clip it using our bounding box."
   ]
  },
  {
   "cell_type": "code",
   "execution_count": 17,
   "metadata": {},
   "outputs": [],
   "source": [
    "# Desired location and file name for the clipped raster\n",
    "clipped_ortho_fn = 'ortho_data/clipped_ortho.tif'\n",
    "\n",
    "# Need to turn the bbox into GeoJSON object\n",
    "bbox_geojson = bbox_to_geojson(bbox)\n",
    "\n",
    "# Now let's clip it\n",
    "clip_by_mask(in_raster=ortho_url, geojson=bbox_geojson, out_raster=clipped_ortho_fn)"
   ]
  },
  {
   "cell_type": "markdown",
   "metadata": {},
   "source": [
    "Let's visualize orthomosaic and building footprint together."
   ]
  },
  {
   "cell_type": "code",
   "execution_count": 18,
   "metadata": {},
   "outputs": [
    {
     "data": {
      "application/vnd.jupyter.widget-view+json": {
       "model_id": "6f7fbe93865e40deb3bc08bf1df5174e",
       "version_major": 2,
       "version_minor": 0
      },
      "text/plain": [
       "Map(center=[40.42775, -86.914749], controls=(ZoomControl(options=['position', 'zoom_in_text', 'zoom_in_title',…"
      ]
     },
     "execution_count": 18,
     "metadata": {},
     "output_type": "execute_result"
    }
   ],
   "source": [
    "m = leafmap.Map()\n",
    "m.add_raster(clipped_ortho_fn, layer_name=\"Indiana Ortho 2023\")\n",
    "m.add_geojson(buildings_geojson, layer_name=\"Buildings\")\n",
    "m"
   ]
  },
  {
   "cell_type": "markdown",
   "metadata": {},
   "source": [
    "We can still see that Indiana Orthomosaic image is not perfectly rectified. Let's check this with Indiana LiDAR data layer."
   ]
  },
  {
   "cell_type": "code",
   "execution_count": 19,
   "metadata": {},
   "outputs": [
    {
     "name": "stdout",
     "output_type": "stream",
     "text": [
      "ID: tippecanoe-ndhm, URL: https://stac.d2s.org/collections/naip/items/tippecanoe-ndhm\n",
      "lidar-image\n",
      "https://lidar.digitalforestry.org/QL2_3DEP_LiDAR_IN_2017_2019_l2/tippecanoe/cog/tippecanoe_ndhm_2018.tif\n"
     ]
    }
   ],
   "source": [
    "# Search for items from the Indiana Ortho Imagery Collection\n",
    "search = client.search(\n",
    "    max_items=10,\n",
    "    collections=[\"ndhm\"],\n",
    "    bbox=bbox,\n",
    "    datetime=['2011-01-01', '2024-12-31'],\n",
    ")\n",
    "\n",
    "# Print STAC Item ID and STAC Browser URL for search results\n",
    "stac_browser_base_item_url = \"https://stac.d2s.org/collections/naip/items\"\n",
    "items = []\n",
    "for item in search.items():\n",
    "    print(f\"ID: {item.id}, URL: {stac_browser_base_item_url}/{item.id}\")\n",
    "    items.append(item)\n",
    "\n",
    "# Choose the first item\n",
    "item = items[0]\n",
    "\n",
    "# Print the name of the asset available in the STAC item\n",
    "for asset in item.assets:\n",
    "    print(asset)\n",
    "\n",
    "#The URL for the NAIP raster is in the \"image\" asset\n",
    "ndhm_url = item.assets[\"lidar-image\"].href\n",
    "print(ndhm_url)\n",
    "\n",
    "# Desired location and file name for the clipped raster\n",
    "clipped_ndhm_fn = 'lidar_data/clipped_ndhm.tif'\n",
    "\n",
    "# Need to turn the bbox into GeoJSON object\n",
    "bbox_geojson = bbox_to_geojson(bbox)\n",
    "\n",
    "# Now let's clip it\n",
    "clip_by_mask(in_raster=ndhm_url, geojson=bbox_geojson, out_raster=clipped_ndhm_fn)"
   ]
  },
  {
   "cell_type": "markdown",
   "metadata": {},
   "source": [
    "Now, let's add all the layers together and compare."
   ]
  },
  {
   "cell_type": "code",
   "execution_count": 20,
   "metadata": {},
   "outputs": [
    {
     "data": {
      "application/vnd.jupyter.widget-view+json": {
       "model_id": "8c5225cce65c4fd397d4e96f76bc56dc",
       "version_major": 2,
       "version_minor": 0
      },
      "text/plain": [
       "Map(center=[40.427754, -86.914749], controls=(ZoomControl(options=['position', 'zoom_in_text', 'zoom_in_title'…"
      ]
     },
     "execution_count": 20,
     "metadata": {},
     "output_type": "execute_result"
    }
   ],
   "source": [
    "building_footprint_style = {\n",
    "    \"stroke\": True,\n",
    "    \"color\": \"#ffffff\",\n",
    "    \"weight\": 1.5,\n",
    "    \"opacity\": 1,\n",
    "    \"fill\": True,\n",
    "    \"fillColor\": \"#0000ff\",\n",
    "    \"fillOpacity\": 0.1,\n",
    "}\n",
    "\n",
    "m = leafmap.Map()\n",
    "m.add_raster(clipped_naip_fn, layer_name=\"NAIP\")\n",
    "m.add_raster(clipped_ortho_fn, layer_name=\"Indiana Ortho 2023\")\n",
    "m.add_raster(clipped_ndhm_fn, colormap=\"jet\", vmin=0, vmax=80,layer_name=\"LiDAR NDHM 2018\")\n",
    "m.add_geojson(buildings_geojson,style=building_footprint_style, layer_name=\"Buildings\")\n",
    "m"
   ]
  },
  {
   "cell_type": "code",
   "execution_count": null,
   "metadata": {},
   "outputs": [],
   "source": []
  }
 ],
 "metadata": {
  "kernelspec": {
   "display_name": "Python 3 (ipykernel)",
   "language": "python",
   "name": "python3"
  },
  "language_info": {
   "codemirror_mode": {
    "name": "ipython",
    "version": 3
   },
   "file_extension": ".py",
   "mimetype": "text/x-python",
   "name": "python",
   "nbconvert_exporter": "python",
   "pygments_lexer": "ipython3",
   "version": "3.12.2"
  }
 },
 "nbformat": 4,
 "nbformat_minor": 4
}
